{
 "cells": [
  {
   "cell_type": "markdown",
   "id": "685c145e",
   "metadata": {},
   "source": [
    "# Data Games Research"
   ]
  },
  {
   "cell_type": "markdown",
   "id": "80148f47",
   "metadata": {},
   "source": [
    "The task of this research is identify patterns that determines the success of a game. This will allow to bet on potentially popular product and plan advertising campaigns.\n",
    "\n",
    "The dataset shows historical data on games sales, user and expert ratings genres and platforms like Xbox or PlayStation."
   ]
  },
  {
   "cell_type": "markdown",
   "id": "f04af087",
   "metadata": {},
   "source": [
    "# Exploration Data Analysis "
   ]
  },
  {
   "cell_type": "code",
   "execution_count": 4,
   "id": "05f16d02",
   "metadata": {},
   "outputs": [],
   "source": [
    "import pandas as pd\n",
    "import matplotlib.pyplot as plt\n",
    "import seaborn as sns\n",
    "import numpy as np\n",
    "from scipy import stats as st"
   ]
  },
  {
   "cell_type": "code",
   "execution_count": 3,
   "id": "e04999b7",
   "metadata": {},
   "outputs": [],
   "source": [
    "data = pd.read_csv(r'C:\\Users\\pinos\\Desktop\\statistics\\games.csv')"
   ]
  },
  {
   "cell_type": "code",
   "execution_count": 5,
   "id": "03e88acb",
   "metadata": {},
   "outputs": [
    {
     "data": {
      "text/html": [
       "<div>\n",
       "<style scoped>\n",
       "    .dataframe tbody tr th:only-of-type {\n",
       "        vertical-align: middle;\n",
       "    }\n",
       "\n",
       "    .dataframe tbody tr th {\n",
       "        vertical-align: top;\n",
       "    }\n",
       "\n",
       "    .dataframe thead th {\n",
       "        text-align: right;\n",
       "    }\n",
       "</style>\n",
       "<table border=\"1\" class=\"dataframe\">\n",
       "  <thead>\n",
       "    <tr style=\"text-align: right;\">\n",
       "      <th></th>\n",
       "      <th>Name</th>\n",
       "      <th>Platform</th>\n",
       "      <th>Year_of_Release</th>\n",
       "      <th>Genre</th>\n",
       "      <th>NA_sales</th>\n",
       "      <th>EU_sales</th>\n",
       "      <th>JP_sales</th>\n",
       "      <th>Other_sales</th>\n",
       "      <th>Critic_Score</th>\n",
       "      <th>User_Score</th>\n",
       "      <th>Rating</th>\n",
       "    </tr>\n",
       "  </thead>\n",
       "  <tbody>\n",
       "    <tr>\n",
       "      <th>0</th>\n",
       "      <td>Wii Sports</td>\n",
       "      <td>Wii</td>\n",
       "      <td>2006.0</td>\n",
       "      <td>Sports</td>\n",
       "      <td>41.36</td>\n",
       "      <td>28.96</td>\n",
       "      <td>3.77</td>\n",
       "      <td>8.45</td>\n",
       "      <td>76.0</td>\n",
       "      <td>8</td>\n",
       "      <td>E</td>\n",
       "    </tr>\n",
       "    <tr>\n",
       "      <th>1</th>\n",
       "      <td>Super Mario Bros.</td>\n",
       "      <td>NES</td>\n",
       "      <td>1985.0</td>\n",
       "      <td>Platform</td>\n",
       "      <td>29.08</td>\n",
       "      <td>3.58</td>\n",
       "      <td>6.81</td>\n",
       "      <td>0.77</td>\n",
       "      <td>NaN</td>\n",
       "      <td>NaN</td>\n",
       "      <td>NaN</td>\n",
       "    </tr>\n",
       "    <tr>\n",
       "      <th>2</th>\n",
       "      <td>Mario Kart Wii</td>\n",
       "      <td>Wii</td>\n",
       "      <td>2008.0</td>\n",
       "      <td>Racing</td>\n",
       "      <td>15.68</td>\n",
       "      <td>12.76</td>\n",
       "      <td>3.79</td>\n",
       "      <td>3.29</td>\n",
       "      <td>82.0</td>\n",
       "      <td>8.3</td>\n",
       "      <td>E</td>\n",
       "    </tr>\n",
       "    <tr>\n",
       "      <th>3</th>\n",
       "      <td>Wii Sports Resort</td>\n",
       "      <td>Wii</td>\n",
       "      <td>2009.0</td>\n",
       "      <td>Sports</td>\n",
       "      <td>15.61</td>\n",
       "      <td>10.93</td>\n",
       "      <td>3.28</td>\n",
       "      <td>2.95</td>\n",
       "      <td>80.0</td>\n",
       "      <td>8</td>\n",
       "      <td>E</td>\n",
       "    </tr>\n",
       "    <tr>\n",
       "      <th>4</th>\n",
       "      <td>Pokemon Red/Pokemon Blue</td>\n",
       "      <td>GB</td>\n",
       "      <td>1996.0</td>\n",
       "      <td>Role-Playing</td>\n",
       "      <td>11.27</td>\n",
       "      <td>8.89</td>\n",
       "      <td>10.22</td>\n",
       "      <td>1.00</td>\n",
       "      <td>NaN</td>\n",
       "      <td>NaN</td>\n",
       "      <td>NaN</td>\n",
       "    </tr>\n",
       "  </tbody>\n",
       "</table>\n",
       "</div>"
      ],
      "text/plain": [
       "                       Name Platform  Year_of_Release         Genre  NA_sales  \\\n",
       "0                Wii Sports      Wii           2006.0        Sports     41.36   \n",
       "1         Super Mario Bros.      NES           1985.0      Platform     29.08   \n",
       "2            Mario Kart Wii      Wii           2008.0        Racing     15.68   \n",
       "3         Wii Sports Resort      Wii           2009.0        Sports     15.61   \n",
       "4  Pokemon Red/Pokemon Blue       GB           1996.0  Role-Playing     11.27   \n",
       "\n",
       "   EU_sales  JP_sales  Other_sales  Critic_Score User_Score Rating  \n",
       "0     28.96      3.77         8.45          76.0          8      E  \n",
       "1      3.58      6.81         0.77           NaN        NaN    NaN  \n",
       "2     12.76      3.79         3.29          82.0        8.3      E  \n",
       "3     10.93      3.28         2.95          80.0          8      E  \n",
       "4      8.89     10.22         1.00           NaN        NaN    NaN  "
      ]
     },
     "execution_count": 5,
     "metadata": {},
     "output_type": "execute_result"
    }
   ],
   "source": [
    "data.head()"
   ]
  },
  {
   "cell_type": "markdown",
   "id": "6055f16c",
   "metadata": {},
   "source": [
    "We look at general statistical data and visualize the data set using histograms."
   ]
  },
  {
   "cell_type": "code",
   "execution_count": 6,
   "id": "0ceceed6",
   "metadata": {},
   "outputs": [
    {
     "data": {
      "text/html": [
       "<div>\n",
       "<style scoped>\n",
       "    .dataframe tbody tr th:only-of-type {\n",
       "        vertical-align: middle;\n",
       "    }\n",
       "\n",
       "    .dataframe tbody tr th {\n",
       "        vertical-align: top;\n",
       "    }\n",
       "\n",
       "    .dataframe thead th {\n",
       "        text-align: right;\n",
       "    }\n",
       "</style>\n",
       "<table border=\"1\" class=\"dataframe\">\n",
       "  <thead>\n",
       "    <tr style=\"text-align: right;\">\n",
       "      <th></th>\n",
       "      <th>Year_of_Release</th>\n",
       "      <th>NA_sales</th>\n",
       "      <th>EU_sales</th>\n",
       "      <th>JP_sales</th>\n",
       "      <th>Other_sales</th>\n",
       "      <th>Critic_Score</th>\n",
       "    </tr>\n",
       "  </thead>\n",
       "  <tbody>\n",
       "    <tr>\n",
       "      <th>count</th>\n",
       "      <td>16446.000000</td>\n",
       "      <td>16715.000000</td>\n",
       "      <td>16715.000000</td>\n",
       "      <td>16715.000000</td>\n",
       "      <td>16715.000000</td>\n",
       "      <td>8137.000000</td>\n",
       "    </tr>\n",
       "    <tr>\n",
       "      <th>mean</th>\n",
       "      <td>2006.484616</td>\n",
       "      <td>0.263377</td>\n",
       "      <td>0.145060</td>\n",
       "      <td>0.077617</td>\n",
       "      <td>0.047342</td>\n",
       "      <td>68.967679</td>\n",
       "    </tr>\n",
       "    <tr>\n",
       "      <th>std</th>\n",
       "      <td>5.877050</td>\n",
       "      <td>0.813604</td>\n",
       "      <td>0.503339</td>\n",
       "      <td>0.308853</td>\n",
       "      <td>0.186731</td>\n",
       "      <td>13.938165</td>\n",
       "    </tr>\n",
       "    <tr>\n",
       "      <th>min</th>\n",
       "      <td>1980.000000</td>\n",
       "      <td>0.000000</td>\n",
       "      <td>0.000000</td>\n",
       "      <td>0.000000</td>\n",
       "      <td>0.000000</td>\n",
       "      <td>13.000000</td>\n",
       "    </tr>\n",
       "    <tr>\n",
       "      <th>25%</th>\n",
       "      <td>2003.000000</td>\n",
       "      <td>0.000000</td>\n",
       "      <td>0.000000</td>\n",
       "      <td>0.000000</td>\n",
       "      <td>0.000000</td>\n",
       "      <td>60.000000</td>\n",
       "    </tr>\n",
       "    <tr>\n",
       "      <th>50%</th>\n",
       "      <td>2007.000000</td>\n",
       "      <td>0.080000</td>\n",
       "      <td>0.020000</td>\n",
       "      <td>0.000000</td>\n",
       "      <td>0.010000</td>\n",
       "      <td>71.000000</td>\n",
       "    </tr>\n",
       "    <tr>\n",
       "      <th>75%</th>\n",
       "      <td>2010.000000</td>\n",
       "      <td>0.240000</td>\n",
       "      <td>0.110000</td>\n",
       "      <td>0.040000</td>\n",
       "      <td>0.030000</td>\n",
       "      <td>79.000000</td>\n",
       "    </tr>\n",
       "    <tr>\n",
       "      <th>max</th>\n",
       "      <td>2016.000000</td>\n",
       "      <td>41.360000</td>\n",
       "      <td>28.960000</td>\n",
       "      <td>10.220000</td>\n",
       "      <td>10.570000</td>\n",
       "      <td>98.000000</td>\n",
       "    </tr>\n",
       "  </tbody>\n",
       "</table>\n",
       "</div>"
      ],
      "text/plain": [
       "       Year_of_Release      NA_sales      EU_sales      JP_sales  \\\n",
       "count     16446.000000  16715.000000  16715.000000  16715.000000   \n",
       "mean       2006.484616      0.263377      0.145060      0.077617   \n",
       "std           5.877050      0.813604      0.503339      0.308853   \n",
       "min        1980.000000      0.000000      0.000000      0.000000   \n",
       "25%        2003.000000      0.000000      0.000000      0.000000   \n",
       "50%        2007.000000      0.080000      0.020000      0.000000   \n",
       "75%        2010.000000      0.240000      0.110000      0.040000   \n",
       "max        2016.000000     41.360000     28.960000     10.220000   \n",
       "\n",
       "        Other_sales  Critic_Score  \n",
       "count  16715.000000   8137.000000  \n",
       "mean       0.047342     68.967679  \n",
       "std        0.186731     13.938165  \n",
       "min        0.000000     13.000000  \n",
       "25%        0.000000     60.000000  \n",
       "50%        0.010000     71.000000  \n",
       "75%        0.030000     79.000000  \n",
       "max       10.570000     98.000000  "
      ]
     },
     "execution_count": 6,
     "metadata": {},
     "output_type": "execute_result"
    }
   ],
   "source": [
    "data.describe()"
   ]
  },
  {
   "cell_type": "code",
   "execution_count": 7,
   "id": "a1f0f79f",
   "metadata": {},
   "outputs": [
    {
     "data": {
      "text/plain": [
       "array([[<AxesSubplot:title={'center':'Year_of_Release'}>,\n",
       "        <AxesSubplot:title={'center':'NA_sales'}>],\n",
       "       [<AxesSubplot:title={'center':'EU_sales'}>,\n",
       "        <AxesSubplot:title={'center':'JP_sales'}>],\n",
       "       [<AxesSubplot:title={'center':'Other_sales'}>,\n",
       "        <AxesSubplot:title={'center':'Critic_Score'}>]], dtype=object)"
      ]
     },
     "execution_count": 7,
     "metadata": {},
     "output_type": "execute_result"
    },
    {
     "data": {
      "image/png": "[encoded data removed]",
      "text/plain": [
       "<Figure size 1080x1440 with 6 Axes>"
      ]
     },
     "metadata": {
      "needs_background": "light"
     },
     "output_type": "display_data"
    }
   ],
   "source": [
    "data.hist(figsize=(15, 20))"
   ]
  },
  {
   "cell_type": "markdown",
   "id": "12528c6d",
   "metadata": {},
   "source": [
    "We change the column names to lowercase."
   ]
  },
  {
   "cell_type": "code",
   "execution_count": 9,
   "id": "4e0ab519",
   "metadata": {},
   "outputs": [],
   "source": [
    "data.columns = data.columns.str.lower()"
   ]
  },
  {
   "cell_type": "code",
   "execution_count": 10,
   "id": "7f81bc2e",
   "metadata": {},
   "outputs": [
    {
     "data": {
      "text/html": [
       "<div>\n",
       "<style scoped>\n",
       "    .dataframe tbody tr th:only-of-type {\n",
       "        vertical-align: middle;\n",
       "    }\n",
       "\n",
       "    .dataframe tbody tr th {\n",
       "        vertical-align: top;\n",
       "    }\n",
       "\n",
       "    .dataframe thead th {\n",
       "        text-align: right;\n",
       "    }\n",
       "</style>\n",
       "<table border=\"1\" class=\"dataframe\">\n",
       "  <thead>\n",
       "    <tr style=\"text-align: right;\">\n",
       "      <th></th>\n",
       "      <th>name</th>\n",
       "      <th>platform</th>\n",
       "      <th>year_of_release</th>\n",
       "      <th>genre</th>\n",
       "      <th>na_sales</th>\n",
       "      <th>eu_sales</th>\n",
       "      <th>jp_sales</th>\n",
       "      <th>other_sales</th>\n",
       "      <th>critic_score</th>\n",
       "      <th>user_score</th>\n",
       "      <th>rating</th>\n",
       "    </tr>\n",
       "  </thead>\n",
       "  <tbody>\n",
       "    <tr>\n",
       "      <th>0</th>\n",
       "      <td>Wii Sports</td>\n",
       "      <td>Wii</td>\n",
       "      <td>2006.0</td>\n",
       "      <td>Sports</td>\n",
       "      <td>41.36</td>\n",
       "      <td>28.96</td>\n",
       "      <td>3.77</td>\n",
       "      <td>8.45</td>\n",
       "      <td>76.0</td>\n",
       "      <td>8</td>\n",
       "      <td>E</td>\n",
       "    </tr>\n",
       "    <tr>\n",
       "      <th>1</th>\n",
       "      <td>Super Mario Bros.</td>\n",
       "      <td>NES</td>\n",
       "      <td>1985.0</td>\n",
       "      <td>Platform</td>\n",
       "      <td>29.08</td>\n",
       "      <td>3.58</td>\n",
       "      <td>6.81</td>\n",
       "      <td>0.77</td>\n",
       "      <td>NaN</td>\n",
       "      <td>NaN</td>\n",
       "      <td>NaN</td>\n",
       "    </tr>\n",
       "    <tr>\n",
       "      <th>2</th>\n",
       "      <td>Mario Kart Wii</td>\n",
       "      <td>Wii</td>\n",
       "      <td>2008.0</td>\n",
       "      <td>Racing</td>\n",
       "      <td>15.68</td>\n",
       "      <td>12.76</td>\n",
       "      <td>3.79</td>\n",
       "      <td>3.29</td>\n",
       "      <td>82.0</td>\n",
       "      <td>8.3</td>\n",
       "      <td>E</td>\n",
       "    </tr>\n",
       "    <tr>\n",
       "      <th>3</th>\n",
       "      <td>Wii Sports Resort</td>\n",
       "      <td>Wii</td>\n",
       "      <td>2009.0</td>\n",
       "      <td>Sports</td>\n",
       "      <td>15.61</td>\n",
       "      <td>10.93</td>\n",
       "      <td>3.28</td>\n",
       "      <td>2.95</td>\n",
       "      <td>80.0</td>\n",
       "      <td>8</td>\n",
       "      <td>E</td>\n",
       "    </tr>\n",
       "    <tr>\n",
       "      <th>4</th>\n",
       "      <td>Pokemon Red/Pokemon Blue</td>\n",
       "      <td>GB</td>\n",
       "      <td>1996.0</td>\n",
       "      <td>Role-Playing</td>\n",
       "      <td>11.27</td>\n",
       "      <td>8.89</td>\n",
       "      <td>10.22</td>\n",
       "      <td>1.00</td>\n",
       "      <td>NaN</td>\n",
       "      <td>NaN</td>\n",
       "      <td>NaN</td>\n",
       "    </tr>\n",
       "  </tbody>\n",
       "</table>\n",
       "</div>"
      ],
      "text/plain": [
       "                       name platform  year_of_release         genre  na_sales  \\\n",
       "0                Wii Sports      Wii           2006.0        Sports     41.36   \n",
       "1         Super Mario Bros.      NES           1985.0      Platform     29.08   \n",
       "2            Mario Kart Wii      Wii           2008.0        Racing     15.68   \n",
       "3         Wii Sports Resort      Wii           2009.0        Sports     15.61   \n",
       "4  Pokemon Red/Pokemon Blue       GB           1996.0  Role-Playing     11.27   \n",
       "\n",
       "   eu_sales  jp_sales  other_sales  critic_score user_score rating  \n",
       "0     28.96      3.77         8.45          76.0          8      E  \n",
       "1      3.58      6.81         0.77           NaN        NaN    NaN  \n",
       "2     12.76      3.79         3.29          82.0        8.3      E  \n",
       "3     10.93      3.28         2.95          80.0          8      E  \n",
       "4      8.89     10.22         1.00           NaN        NaN    NaN  "
      ]
     },
     "execution_count": 10,
     "metadata": {},
     "output_type": "execute_result"
    }
   ],
   "source": [
    "# checking\n",
    "\n",
    "data.head()"
   ]
  },
  {
   "cell_type": "markdown",
   "id": "387dae81",
   "metadata": {},
   "source": [
    "# Data Preparation"
   ]
  },
  {
   "cell_type": "markdown",
   "id": "948439a8",
   "metadata": {},
   "source": [
    "We study the types of data we have."
   ]
  },
  {
   "cell_type": "code",
   "execution_count": 12,
   "id": "31140a2e",
   "metadata": {},
   "outputs": [
    {
     "name": "stdout",
     "output_type": "stream",
     "text": [
      "<class 'pandas.core.frame.DataFrame'>\n",
      "RangeIndex: 16715 entries, 0 to 16714\n",
      "Data columns (total 11 columns):\n",
      " #   Column           Non-Null Count  Dtype  \n",
      "---  ------           --------------  -----  \n",
      " 0   name             16713 non-null  object \n",
      " 1   platform         16715 non-null  object \n",
      " 2   year_of_release  16446 non-null  float64\n",
      " 3   genre            16713 non-null  object \n",
      " 4   na_sales         16715 non-null  float64\n",
      " 5   eu_sales         16715 non-null  float64\n",
      " 6   jp_sales         16715 non-null  float64\n",
      " 7   other_sales      16715 non-null  float64\n",
      " 8   critic_score     8137 non-null   float64\n",
      " 9   user_score       10014 non-null  object \n",
      " 10  rating           9949 non-null   object \n",
      "dtypes: float64(6), object(5)\n",
      "memory usage: 1.1+ MB\n"
     ]
    }
   ],
   "source": [
    "data.info()"
   ]
  },
  {
   "cell_type": "markdown",
   "id": "f0d6da09",
   "metadata": {},
   "source": [
    "The critic_score column we are going to change their type to float and int, which would be the most logical step if we take into account what is observed in the table."
   ]
  },
  {
   "cell_type": "code",
   "execution_count": 13,
   "id": "f31fb092",
   "metadata": {},
   "outputs": [],
   "source": [
    "data['critic_score'] = data['critic_score'].astype('Int64')"
   ]
  },
  {
   "cell_type": "code",
   "execution_count": 14,
   "id": "b0f9d907",
   "metadata": {},
   "outputs": [],
   "source": [
    "data['user_score'] = data['user_score'].replace('tbd', np.nan)"
   ]
  },
  {
   "cell_type": "code",
   "execution_count": 15,
   "id": "8727ec6c",
   "metadata": {},
   "outputs": [],
   "source": [
    "data['user_score'] = data['user_score'].astype('float64')"
   ]
  },
  {
   "cell_type": "markdown",
   "id": "cf207ef5",
   "metadata": {},
   "source": [
    "user_score generates problems with the initials \"tbd\", which according to the Cambridge English Dictionary means \"to be decided or to be determined\" and is used when something is not yet defined, so in our case it had to be changed to nan."
   ]
  },
  {
   "cell_type": "code",
   "execution_count": 16,
   "id": "57bbae08",
   "metadata": {},
   "outputs": [
    {
     "name": "stdout",
     "output_type": "stream",
     "text": [
      "<class 'pandas.core.frame.DataFrame'>\n",
      "RangeIndex: 16715 entries, 0 to 16714\n",
      "Data columns (total 11 columns):\n",
      " #   Column           Non-Null Count  Dtype  \n",
      "---  ------           --------------  -----  \n",
      " 0   name             16713 non-null  object \n",
      " 1   platform         16715 non-null  object \n",
      " 2   year_of_release  16446 non-null  float64\n",
      " 3   genre            16713 non-null  object \n",
      " 4   na_sales         16715 non-null  float64\n",
      " 5   eu_sales         16715 non-null  float64\n",
      " 6   jp_sales         16715 non-null  float64\n",
      " 7   other_sales      16715 non-null  float64\n",
      " 8   critic_score     8137 non-null   Int64  \n",
      " 9   user_score       7590 non-null   float64\n",
      " 10  rating           9949 non-null   object \n",
      "dtypes: Int64(1), float64(6), object(4)\n",
      "memory usage: 1.2+ MB\n"
     ]
    }
   ],
   "source": [
    "# just checking the changes\n",
    "\n",
    "data.info()"
   ]
  },
  {
   "cell_type": "code",
   "execution_count": 17,
   "id": "3e207d28",
   "metadata": {},
   "outputs": [
    {
     "data": {
      "text/plain": [
       "name                0.011965\n",
       "platform            0.000000\n",
       "year_of_release     1.609333\n",
       "genre               0.011965\n",
       "na_sales            0.000000\n",
       "eu_sales            0.000000\n",
       "jp_sales            0.000000\n",
       "other_sales         0.000000\n",
       "critic_score       51.319174\n",
       "user_score         54.591684\n",
       "rating             40.478612\n",
       "dtype: float64"
      ]
     },
     "execution_count": 17,
     "metadata": {},
     "output_type": "execute_result"
    }
   ],
   "source": [
    "def percentages_lost():\n",
    "    \n",
    "    return data.isna().sum() / len(data) * 100\n",
    "\n",
    "percentages_lost()"
   ]
  },
  {
   "cell_type": "markdown",
   "id": "27a1fc5a",
   "metadata": {},
   "source": [
    "The variables dedicated to the rating are those that have the largest number of missing values, their percentage varies from 40 percent or more to more than half of the values, as in the case of user_score and the aforementioned 'tbd', we switched to nan, because we must not forget that the type of this variable is float, not string. Rating we change the missing values to unknown ones."
   ]
  },
  {
   "cell_type": "code",
   "execution_count": 18,
   "id": "74f96172",
   "metadata": {},
   "outputs": [],
   "source": [
    "data['rating'] = data['rating'].replace(np.nan, 'unknown')"
   ]
  },
  {
   "cell_type": "code",
   "execution_count": 19,
   "id": "7a82640a",
   "metadata": {},
   "outputs": [
    {
     "data": {
      "text/plain": [
       "0              E\n",
       "1        unknown\n",
       "2              E\n",
       "3              E\n",
       "4        unknown\n",
       "          ...   \n",
       "16710    unknown\n",
       "16711    unknown\n",
       "16712    unknown\n",
       "16713    unknown\n",
       "16714    unknown\n",
       "Name: rating, Length: 16715, dtype: object"
      ]
     },
     "execution_count": 19,
     "metadata": {},
     "output_type": "execute_result"
    }
   ],
   "source": [
    "# checking the chages\n",
    "\n",
    "data['rating']"
   ]
  },
  {
   "cell_type": "markdown",
   "id": "e43e4142",
   "metadata": {},
   "source": [
    "The rest of the missing data has a low percentage, which in any case will not affect the analysis, so we get rid of them."
   ]
  },
  {
   "cell_type": "code",
   "execution_count": 20,
   "id": "670ca07b",
   "metadata": {},
   "outputs": [],
   "source": [
    "data = data.dropna(subset=['name', 'year_of_release', 'genre'], inplace=False)"
   ]
  },
  {
   "cell_type": "code",
   "execution_count": 21,
   "id": "d525008c",
   "metadata": {},
   "outputs": [
    {
     "data": {
      "text/plain": [
       "name               0.000000\n",
       "platform           0.000000\n",
       "year_of_release    0.000000\n",
       "genre              0.000000\n",
       "na_sales           0.000000\n",
       "eu_sales           0.000000\n",
       "jp_sales           0.000000\n",
       "other_sales        0.000000\n",
       "critic_score       0.514534\n",
       "user_score         0.546157\n",
       "rating             0.000000\n",
       "dtype: float64"
      ]
     },
     "execution_count": 21,
     "metadata": {},
     "output_type": "execute_result"
    }
   ],
   "source": [
    "# checking the changes again\n",
    "\n",
    "data.isna().mean()"
   ]
  },
  {
   "cell_type": "code",
   "execution_count": 22,
   "id": "9813dc3f",
   "metadata": {},
   "outputs": [],
   "source": [
    "data['user_score'] = data['user_score'].replace('tbd', np.nan)"
   ]
  },
  {
   "cell_type": "code",
   "execution_count": 23,
   "id": "32108178",
   "metadata": {},
   "outputs": [
    {
     "data": {
      "text/plain": [
       "unknown    6676\n",
       "E          3921\n",
       "T          2905\n",
       "M          1536\n",
       "E10+       1393\n",
       "EC            8\n",
       "K-A           3\n",
       "AO            1\n",
       "RP            1\n",
       "Name: rating, dtype: int64"
      ]
     },
     "execution_count": 23,
     "metadata": {},
     "output_type": "execute_result"
    }
   ],
   "source": [
    "data['rating'].value_counts()"
   ]
  },
  {
   "cell_type": "markdown",
   "id": "784776d6",
   "metadata": {},
   "source": [
    "We can exclude the last four categories."
   ]
  },
  {
   "cell_type": "code",
   "execution_count": 24,
   "id": "50cb9203",
   "metadata": {},
   "outputs": [],
   "source": [
    "data = data.loc[(data['rating'] != 'EC') & (data['rating'] != 'K-A') &\n",
    "         (data['rating'] != 'RP') & (data['rating'] != 'AO')]"
   ]
  },
  {
   "cell_type": "markdown",
   "id": "552eb73f",
   "metadata": {},
   "source": [
    "We summarize all sales by region and record them in the total_sales column."
   ]
  },
  {
   "cell_type": "code",
   "execution_count": 25,
   "id": "330c6f49",
   "metadata": {},
   "outputs": [],
   "source": [
    "data['total_sales'] = data[[\n",
    "    \n",
    "    'na_sales','eu_sales','jp_sales', 'other_sales']].sum(axis = 1)"
   ]
  },
  {
   "cell_type": "code",
   "execution_count": 26,
   "id": "376a6818",
   "metadata": {},
   "outputs": [
    {
     "data": {
      "text/html": [
       "<div>\n",
       "<style scoped>\n",
       "    .dataframe tbody tr th:only-of-type {\n",
       "        vertical-align: middle;\n",
       "    }\n",
       "\n",
       "    .dataframe tbody tr th {\n",
       "        vertical-align: top;\n",
       "    }\n",
       "\n",
       "    .dataframe thead th {\n",
       "        text-align: right;\n",
       "    }\n",
       "</style>\n",
       "<table border=\"1\" class=\"dataframe\">\n",
       "  <thead>\n",
       "    <tr style=\"text-align: right;\">\n",
       "      <th></th>\n",
       "      <th>name</th>\n",
       "      <th>platform</th>\n",
       "      <th>year_of_release</th>\n",
       "      <th>genre</th>\n",
       "      <th>na_sales</th>\n",
       "      <th>eu_sales</th>\n",
       "      <th>jp_sales</th>\n",
       "      <th>other_sales</th>\n",
       "      <th>critic_score</th>\n",
       "      <th>user_score</th>\n",
       "      <th>rating</th>\n",
       "      <th>total_sales</th>\n",
       "    </tr>\n",
       "  </thead>\n",
       "  <tbody>\n",
       "    <tr>\n",
       "      <th>0</th>\n",
       "      <td>Wii Sports</td>\n",
       "      <td>Wii</td>\n",
       "      <td>2006.0</td>\n",
       "      <td>Sports</td>\n",
       "      <td>41.36</td>\n",
       "      <td>28.96</td>\n",
       "      <td>3.77</td>\n",
       "      <td>8.45</td>\n",
       "      <td>76</td>\n",
       "      <td>8.0</td>\n",
       "      <td>E</td>\n",
       "      <td>82.54</td>\n",
       "    </tr>\n",
       "    <tr>\n",
       "      <th>1</th>\n",
       "      <td>Super Mario Bros.</td>\n",
       "      <td>NES</td>\n",
       "      <td>1985.0</td>\n",
       "      <td>Platform</td>\n",
       "      <td>29.08</td>\n",
       "      <td>3.58</td>\n",
       "      <td>6.81</td>\n",
       "      <td>0.77</td>\n",
       "      <td>&lt;NA&gt;</td>\n",
       "      <td>NaN</td>\n",
       "      <td>unknown</td>\n",
       "      <td>40.24</td>\n",
       "    </tr>\n",
       "    <tr>\n",
       "      <th>2</th>\n",
       "      <td>Mario Kart Wii</td>\n",
       "      <td>Wii</td>\n",
       "      <td>2008.0</td>\n",
       "      <td>Racing</td>\n",
       "      <td>15.68</td>\n",
       "      <td>12.76</td>\n",
       "      <td>3.79</td>\n",
       "      <td>3.29</td>\n",
       "      <td>82</td>\n",
       "      <td>8.3</td>\n",
       "      <td>E</td>\n",
       "      <td>35.52</td>\n",
       "    </tr>\n",
       "    <tr>\n",
       "      <th>3</th>\n",
       "      <td>Wii Sports Resort</td>\n",
       "      <td>Wii</td>\n",
       "      <td>2009.0</td>\n",
       "      <td>Sports</td>\n",
       "      <td>15.61</td>\n",
       "      <td>10.93</td>\n",
       "      <td>3.28</td>\n",
       "      <td>2.95</td>\n",
       "      <td>80</td>\n",
       "      <td>8.0</td>\n",
       "      <td>E</td>\n",
       "      <td>32.77</td>\n",
       "    </tr>\n",
       "    <tr>\n",
       "      <th>4</th>\n",
       "      <td>Pokemon Red/Pokemon Blue</td>\n",
       "      <td>GB</td>\n",
       "      <td>1996.0</td>\n",
       "      <td>Role-Playing</td>\n",
       "      <td>11.27</td>\n",
       "      <td>8.89</td>\n",
       "      <td>10.22</td>\n",
       "      <td>1.00</td>\n",
       "      <td>&lt;NA&gt;</td>\n",
       "      <td>NaN</td>\n",
       "      <td>unknown</td>\n",
       "      <td>31.38</td>\n",
       "    </tr>\n",
       "  </tbody>\n",
       "</table>\n",
       "</div>"
      ],
      "text/plain": [
       "                       name platform  year_of_release         genre  na_sales  \\\n",
       "0                Wii Sports      Wii           2006.0        Sports     41.36   \n",
       "1         Super Mario Bros.      NES           1985.0      Platform     29.08   \n",
       "2            Mario Kart Wii      Wii           2008.0        Racing     15.68   \n",
       "3         Wii Sports Resort      Wii           2009.0        Sports     15.61   \n",
       "4  Pokemon Red/Pokemon Blue       GB           1996.0  Role-Playing     11.27   \n",
       "\n",
       "   eu_sales  jp_sales  other_sales  critic_score  user_score   rating  \\\n",
       "0     28.96      3.77         8.45            76         8.0        E   \n",
       "1      3.58      6.81         0.77          <NA>         NaN  unknown   \n",
       "2     12.76      3.79         3.29            82         8.3        E   \n",
       "3     10.93      3.28         2.95            80         8.0        E   \n",
       "4      8.89     10.22         1.00          <NA>         NaN  unknown   \n",
       "\n",
       "   total_sales  \n",
       "0        82.54  \n",
       "1        40.24  \n",
       "2        35.52  \n",
       "3        32.77  \n",
       "4        31.38  "
      ]
     },
     "execution_count": 26,
     "metadata": {},
     "output_type": "execute_result"
    }
   ],
   "source": [
    "data.head()"
   ]
  },
  {
   "cell_type": "markdown",
   "id": "10991136",
   "metadata": {},
   "source": [
    "In this first section, we discussed the types of data we have in the dataset, and we changed it logically to better analyze them. We also observed and processed missing values, observing the highest percentages of these values in the columns associated with the rating and ratings of critics and users. \n",
    "\n",
    "As a result, we applied the most appropriate methods, leaving unchanged those columns in which we could not exclude or change them, because they would negatively affect the analysis. \n",
    "\n",
    "In addition, we removed the categories in the rating column that had few values, and created a new column in which the total sales of games are calculated."
   ]
  },
  {
   "cell_type": "markdown",
   "id": "401b9dbf",
   "metadata": {},
   "source": [
    "# Research Data Analysis"
   ]
  },
  {
   "cell_type": "markdown",
   "id": "725d4ade",
   "metadata": {},
   "source": [
    "We created a histogram to see how many games were released in a year."
   ]
  },
  {
   "cell_type": "code",
   "execution_count": 43,
   "id": "93b210e1",
   "metadata": {},
   "outputs": [
    {
     "data": {
      "text/plain": [
       "Text(0, 0.5, 'Number of games')"
      ]
     },
     "execution_count": 43,
     "metadata": {},
     "output_type": "execute_result"
    },
    {
     "data": {
      "image/png": "[encoded data removed]",
      "text/plain": [
       "<Figure size 432x288 with 1 Axes>"
      ]
     },
     "metadata": {
      "needs_background": "light"
     },
     "output_type": "display_data"
    }
   ],
   "source": [
    "data['year_of_release'].hist(\n",
    "    \n",
    "    bins=100, \n",
    "    \n",
    "    range=(1980, 2016)\n",
    "\n",
    ")\n",
    "\n",
    "plt.title(\"Gaming Publications by Year\")\n",
    "\n",
    "plt.xlabel(\"Years\")\n",
    "\n",
    "plt.ylabel(\"Number of games\")"
   ]
  },
  {
   "cell_type": "markdown",
   "id": "3c41a1ba",
   "metadata": {},
   "source": [
    "Since the mid-90s, there has been an upward trend. In the 2000s, we can talk about a sharp increase in the number of games going on sale, with certain ups and downs. After the boom, the sharpest decline occurred in 2012."
   ]
  },
  {
   "cell_type": "markdown",
   "id": "171a4583",
   "metadata": {},
   "source": [
    "We moved on to analyzing the platforms that had the most sales."
   ]
  },
  {
   "cell_type": "code",
   "execution_count": 29,
   "id": "5137cadb",
   "metadata": {},
   "outputs": [],
   "source": [
    "sum_platform = data.groupby(\n",
    "    \n",
    "    'platform'\n",
    "    \n",
    ")[\n",
    "    \n",
    "    'total_sales'\n",
    "    \n",
    "].sum().sort_values(ascending=False)"
   ]
  },
  {
   "cell_type": "code",
   "execution_count": 30,
   "id": "26ecdbff",
   "metadata": {},
   "outputs": [
    {
     "data": {
      "text/plain": [
       "platform\n",
       "PS2     1233.32\n",
       "X360     961.24\n",
       "PS3      931.34\n",
       "Wii      890.52\n",
       "DS       802.13\n",
       "PS       725.67\n",
       "Name: total_sales, dtype: float64"
      ]
     },
     "execution_count": 30,
     "metadata": {},
     "output_type": "execute_result"
    }
   ],
   "source": [
    "sum_platform.head(6)"
   ]
  },
  {
   "cell_type": "code",
   "execution_count": 44,
   "id": "e62de352",
   "metadata": {},
   "outputs": [
    {
     "data": {
      "text/plain": [
       "Text(0.5, 1.0, 'PS2 Games Distributions by Year\\n')"
      ]
     },
     "execution_count": 44,
     "metadata": {},
     "output_type": "execute_result"
    },
    {
     "data": {
      "image/png": "[encoded data removed]",
      "text/plain": [
       "<Figure size 864x360 with 1 Axes>"
      ]
     },
     "metadata": {
      "needs_background": "light"
     },
     "output_type": "display_data"
    }
   ],
   "source": [
    "(data.query('platform == \"PS2\"')['year_of_release']\n",
    " \n",
    "     .plot(kind= 'hist',\n",
    "           \n",
    "           bins=30, \n",
    "           \n",
    "           figsize=(12,5), \n",
    "           \n",
    "           legend = False, \n",
    "           \n",
    "           fontsize = 12)\n",
    " \n",
    "     .set_title('PS2 Games Distributions by Year' + \"\\n\", \n",
    "                \n",
    "                fontsize = 16, \n",
    "                \n",
    "                color = 'Black'))"
   ]
  },
  {
   "cell_type": "markdown",
   "id": "cddd5cc6",
   "metadata": {},
   "source": [
    "From 2000 to 2002, there was a tendency to increase the number of games on sale. From 2003 to 2006 there is a stabilization, and since 2007-a fall."
   ]
  },
  {
   "cell_type": "code",
   "execution_count": 45,
   "id": "8ce93922",
   "metadata": {},
   "outputs": [
    {
     "data": {
      "text/plain": [
       "Text(0.5, 1.0, 'X360 Games Distributions by Year\\n')"
      ]
     },
     "execution_count": 45,
     "metadata": {},
     "output_type": "execute_result"
    },
    {
     "data": {
      "image/png": "[encoded data removed]",
      "text/plain": [
       "<Figure size 864x360 with 1 Axes>"
      ]
     },
     "metadata": {
      "needs_background": "light"
     },
     "output_type": "display_data"
    }
   ],
   "source": [
    "(data.query('platform == \"X360\"')['year_of_release']\n",
    " \n",
    "     .plot(kind= 'hist',\n",
    "           \n",
    "           bins=30, \n",
    "           \n",
    "           figsize=(12,5), \n",
    "           \n",
    "           legend = False, \n",
    "           \n",
    "           fontsize = 12)\n",
    " \n",
    "     .set_title('X360 Games Distributions by Year' + \"\\n\", \n",
    "                \n",
    "                fontsize = 16, \n",
    "                \n",
    "                color = 'Black'))"
   ]
  },
  {
   "cell_type": "markdown",
   "id": "47e969b9",
   "metadata": {},
   "source": [
    "This platform follows a model similar to the previous one, with the only difference that instead of a stabilization period, there is a continuous growth until 2011, and then a sharp drop."
   ]
  },
  {
   "cell_type": "code",
   "execution_count": 46,
   "id": "ed6c1f44",
   "metadata": {},
   "outputs": [
    {
     "data": {
      "text/plain": [
       "Text(0.5, 1.0, 'PS3 Games Distributions by Year\\n')"
      ]
     },
     "execution_count": 46,
     "metadata": {},
     "output_type": "execute_result"
    },
    {
     "data": {
      "image/png": "[encoded data removed]",
      "text/plain": [
       "<Figure size 864x360 with 1 Axes>"
      ]
     },
     "metadata": {
      "needs_background": "light"
     },
     "output_type": "display_data"
    }
   ],
   "source": [
    "(data.query('platform == \"PS3\"')['year_of_release']\n",
    " \n",
    "     .plot(kind= 'hist',\n",
    "           \n",
    "           bins=30, \n",
    "           \n",
    "           figsize=(12,5), \n",
    "           \n",
    "           legend = False, \n",
    "           \n",
    "           fontsize = 12)\n",
    " \n",
    "     .set_title('PS3 Games Distributions by Year' + \"\\n\", \n",
    "                \n",
    "                fontsize = 16, \n",
    "                \n",
    "                color = 'Black'))"
   ]
  },
  {
   "cell_type": "markdown",
   "id": "3e09be9e",
   "metadata": {},
   "source": [
    "Similar to the previous one, only the figure shows a more pronounced bell shape."
   ]
  },
  {
   "cell_type": "code",
   "execution_count": 47,
   "id": "8e081063",
   "metadata": {},
   "outputs": [
    {
     "data": {
      "text/plain": [
       "Text(0.5, 1.0, 'Wii Games Distributions by Year\\n')"
      ]
     },
     "execution_count": 47,
     "metadata": {},
     "output_type": "execute_result"
    },
    {
     "data": {
      "image/png": "[encoded data removed]",
      "text/plain": [
       "<Figure size 864x360 with 1 Axes>"
      ]
     },
     "metadata": {
      "needs_background": "light"
     },
     "output_type": "display_data"
    }
   ],
   "source": [
    "(data.query('platform == \"Wii\"')['year_of_release']\n",
    " \n",
    "     .plot(kind= 'hist',\n",
    "           \n",
    "           bins=30, \n",
    "           \n",
    "           figsize=(12,5), \n",
    "           \n",
    "           legend = False, \n",
    "           \n",
    "           fontsize = 12)\n",
    " \n",
    "     .set_title('Wii Games Distributions by Year' + \"\\n\", \n",
    "                \n",
    "                fontsize = 16, \n",
    "                \n",
    "                color = 'Black'))"
   ]
  },
  {
   "cell_type": "markdown",
   "id": "515df5f6",
   "metadata": {},
   "source": [
    "The Wii platform shows the same trend as the previous ones, with the difference that since 2012 it has been mainly striving to disappear from the market."
   ]
  },
  {
   "cell_type": "code",
   "execution_count": 48,
   "id": "fe29dccd",
   "metadata": {},
   "outputs": [
    {
     "data": {
      "text/plain": [
       "Text(0.5, 1.0, 'DS Games Distributions by Year\\n')"
      ]
     },
     "execution_count": 48,
     "metadata": {},
     "output_type": "execute_result"
    },
    {
     "data": {
      "image/png": "[encoded data removed]",
      "text/plain": [
       "<Figure size 864x360 with 1 Axes>"
      ]
     },
     "metadata": {
      "needs_background": "light"
     },
     "output_type": "display_data"
    }
   ],
   "source": [
    "(data.query('platform == \"DS\"')['year_of_release']\n",
    " \n",
    "     .plot(kind= 'hist',\n",
    "           \n",
    "           bins=60, \n",
    "           \n",
    "           range=(2000, 2016),\n",
    "           \n",
    "           figsize=(12,5), \n",
    "           \n",
    "           legend = False, \n",
    "           \n",
    "           fontsize = 12)\n",
    " \n",
    "     .set_title('DS Games Distributions by Year' + \"\\n\", \n",
    "                \n",
    "                fontsize = 16, \n",
    "                \n",
    "                color = 'Black'))"
   ]
  },
  {
   "cell_type": "markdown",
   "id": "41c78ef1",
   "metadata": {},
   "source": [
    "This platform disappears from the market much earlier than the previous one, and in 2014 and 2016 it no longer produces games."
   ]
  },
  {
   "cell_type": "code",
   "execution_count": 49,
   "id": "b5e2534f",
   "metadata": {},
   "outputs": [
    {
     "data": {
      "text/plain": [
       "Text(0.5, 1.0, 'PS Games Distributions by Year\\n')"
      ]
     },
     "execution_count": 49,
     "metadata": {},
     "output_type": "execute_result"
    },
    {
     "data": {
      "image/png": "[encoded data removed]",
      "text/plain": [
       "<Figure size 864x360 with 1 Axes>"
      ]
     },
     "metadata": {
      "needs_background": "light"
     },
     "output_type": "display_data"
    }
   ],
   "source": [
    "(data.query('platform == \"PS\"')['year_of_release']\n",
    " \n",
    "     .plot(kind= 'hist',\n",
    "           \n",
    "           bins=60, \n",
    "           \n",
    "           figsize=(12,5), \n",
    "           \n",
    "           legend = False, \n",
    "           \n",
    "           fontsize = 12)\n",
    " \n",
    "     .set_title('PS Games Distributions by Year' + \"\\n\", \n",
    "                \n",
    "                fontsize = 16, \n",
    "                \n",
    "                color = 'Black'))"
   ]
  },
  {
   "cell_type": "markdown",
   "id": "cb9721f3",
   "metadata": {},
   "source": [
    "The PS platform has an earlier historical experience than others, but has stopped selling games since 2003, which coincides with the appearance of the new PS2 model."
   ]
  },
  {
   "cell_type": "markdown",
   "id": "17c7a7ee",
   "metadata": {},
   "source": [
    "In conclusion, we can say that all platforms retain the same trend pattern, but some disappear earlier than others. All this corresponds to the general histogram of all platforms shown at the beginning."
   ]
  },
  {
   "cell_type": "markdown",
   "id": "3a10294d",
   "metadata": {},
   "source": [
    "Some platforms are disappearing because the same company is releasing a newer model, but now we need to study those platforms that may be disappearing due to wear and tear or lack of sales, which we will consider in the next step."
   ]
  },
  {
   "cell_type": "code",
   "execution_count": 50,
   "id": "24b3e3d4",
   "metadata": {},
   "outputs": [],
   "source": [
    "platforms_sales = pd.pivot_table(\n",
    "    \n",
    "    data, \n",
    "    \n",
    "    index = ['platform', 'year_of_release'], \n",
    "    \n",
    "    values = 'total_sales', \n",
    "    \n",
    "    aggfunc='median').sort_values(by = 'total_sales', ascending = False)\n"
   ]
  },
  {
   "cell_type": "code",
   "execution_count": 51,
   "id": "321477d7",
   "metadata": {},
   "outputs": [
    {
     "data": {
      "text/html": [
       "<div>\n",
       "<style scoped>\n",
       "    .dataframe tbody tr th:only-of-type {\n",
       "        vertical-align: middle;\n",
       "    }\n",
       "\n",
       "    .dataframe tbody tr th {\n",
       "        vertical-align: top;\n",
       "    }\n",
       "\n",
       "    .dataframe thead th {\n",
       "        text-align: right;\n",
       "    }\n",
       "</style>\n",
       "<table border=\"1\" class=\"dataframe\">\n",
       "  <thead>\n",
       "    <tr style=\"text-align: right;\">\n",
       "      <th></th>\n",
       "      <th></th>\n",
       "      <th>total_sales</th>\n",
       "    </tr>\n",
       "    <tr>\n",
       "      <th>platform</th>\n",
       "      <th>year_of_release</th>\n",
       "      <th></th>\n",
       "    </tr>\n",
       "  </thead>\n",
       "  <tbody>\n",
       "    <tr>\n",
       "      <th>GEN</th>\n",
       "      <th>1991.0</th>\n",
       "      <td>4.330</td>\n",
       "    </tr>\n",
       "    <tr>\n",
       "      <th>GB</th>\n",
       "      <th>1994.0</th>\n",
       "      <td>3.910</td>\n",
       "    </tr>\n",
       "    <tr>\n",
       "      <th>GEN</th>\n",
       "      <th>1990.0</th>\n",
       "      <td>2.600</td>\n",
       "    </tr>\n",
       "    <tr>\n",
       "      <th rowspan=\"2\" valign=\"top\">PC</th>\n",
       "      <th>1997.0</th>\n",
       "      <td>2.365</td>\n",
       "    </tr>\n",
       "    <tr>\n",
       "      <th>1994.0</th>\n",
       "      <td>2.240</td>\n",
       "    </tr>\n",
       "  </tbody>\n",
       "</table>\n",
       "</div>"
      ],
      "text/plain": [
       "                          total_sales\n",
       "platform year_of_release             \n",
       "GEN      1991.0                 4.330\n",
       "GB       1994.0                 3.910\n",
       "GEN      1990.0                 2.600\n",
       "PC       1997.0                 2.365\n",
       "         1994.0                 2.240"
      ]
     },
     "execution_count": 51,
     "metadata": {},
     "output_type": "execute_result"
    }
   ],
   "source": [
    "platforms_sales.head()"
   ]
  },
  {
   "cell_type": "code",
   "execution_count": 52,
   "id": "48fc908e",
   "metadata": {},
   "outputs": [
    {
     "data": {
      "image/png": "[encoded data removed]",
      "text/plain": [
       "<Figure size 1440x720 with 1 Axes>"
      ]
     },
     "metadata": {
      "needs_background": "light"
     },
     "output_type": "display_data"
    },
    {
     "data": {
      "image/png": "[encoded data removed]",
      "text/plain": [
       "<Figure size 1440x720 with 1 Axes>"
      ]
     },
     "metadata": {
      "needs_background": "light"
     },
     "output_type": "display_data"
    },
    {
     "data": {
      "image/png": "[encoded data removed]",
      "text/plain": [
       "<Figure size 1440x720 with 1 Axes>"
      ]
     },
     "metadata": {
      "needs_background": "light"
     },
     "output_type": "display_data"
    }
   ],
   "source": [
    "top_platforms = [\n",
    "    \n",
    "    'PS2',\n",
    "    \n",
    "    'X360',\n",
    "    \n",
    "    'PS3',\n",
    "    \n",
    "    'Wii',\n",
    "    \n",
    "    'DS',\n",
    "    \n",
    "    'PS' ]\n",
    "\n",
    "super_growth = platforms_sales.query(\n",
    "    \n",
    "    'platform in @top_platforms & year_of_release >= 2014 & year_of_release < 2017'\n",
    "\n",
    ").groupby('platform').plot(kind='bar', figsize=(20, 10),fontsize=18)\n",
    "\n",
    "plt.ylabel('Total Sales', fontdict={'fontsize': 18})\n",
    "\n",
    "plt.title('Dynamics of sales of each top platform', fontdict={'fontsize': 28})  \n",
    "\n",
    "plt.show()"
   ]
  },
  {
   "cell_type": "markdown",
   "id": "51a931a2",
   "metadata": {},
   "source": [
    "As we can see, the trend of the six platforms that brought the most sales during the analyzed period is downward, sales on all of them gradually decrease over the years."
   ]
  },
  {
   "cell_type": "code",
   "execution_count": 53,
   "id": "72a211ec",
   "metadata": {},
   "outputs": [
    {
     "data": {
      "image/png": "[encoded data removed]",
      "text/plain": [
       "<Figure size 432x288 with 1 Axes>"
      ]
     },
     "metadata": {
      "needs_background": "light"
     },
     "output_type": "display_data"
    }
   ],
   "source": [
    "box_plot = data.query(\n",
    "    \n",
    "    'platform in @top_platforms'\n",
    "\n",
    ").sort_values(by = 'total_sales')\n",
    "    \n",
    "ax = sns.boxplot(\n",
    "    \n",
    "    data=box_plot, x=\"total_sales\", y=\"platform\",\n",
    "    \n",
    "    notch=True, showcaps=False,\n",
    "    \n",
    "    flierprops={\"marker\": \"x\"},\n",
    "    \n",
    "    boxprops={\"facecolor\": (.4, .6, .8, .5)},\n",
    "    \n",
    "    medianprops={\"color\": \"coral\"},\n",
    ")\n",
    "ax.set(xlim=(0, 2))\n",
    "\n",
    "plt.show()"
   ]
  },
  {
   "cell_type": "markdown",
   "id": "d275d426",
   "metadata": {},
   "source": [
    "The overlap of the fields tells us that all platforms follow a very similar distribution, that is, sales follow a very similar evolution, so we cannot say that the data between the platforms differs significantly. If we had to point out the ones that are most different from the rest, we would say that these are DS and Wii, but with minimal and minor differences.\n",
    "\n",
    "Another similarity is that they all have a large number of outliers. This may be due to the publication of specific games with astronomical sales."
   ]
  },
  {
   "cell_type": "markdown",
   "id": "fc17a93e",
   "metadata": {},
   "source": [
    "Now we are going to investigate how user ratings and critics affect sales on one of the most popular sites."
   ]
  },
  {
   "cell_type": "code",
   "execution_count": 54,
   "id": "ea2145c1",
   "metadata": {},
   "outputs": [],
   "source": [
    "review_and_sales = data.query('platform == \"PS2\"').copy()"
   ]
  },
  {
   "cell_type": "code",
   "execution_count": 55,
   "id": "ee41b36c",
   "metadata": {},
   "outputs": [],
   "source": [
    "review_and_sales['critic_score'] = review_and_sales[\n",
    "    \n",
    "    'critic_score'].astype('float64')"
   ]
  },
  {
   "cell_type": "code",
   "execution_count": 56,
   "id": "c0f288af",
   "metadata": {},
   "outputs": [
    {
     "data": {
      "text/plain": [
       "0.39253647544509"
      ]
     },
     "execution_count": 56,
     "metadata": {},
     "output_type": "execute_result"
    }
   ],
   "source": [
    "review_and_sales['critic_score'].corr(review_and_sales['total_sales'])"
   ]
  },
  {
   "cell_type": "code",
   "execution_count": 57,
   "id": "db96e40f",
   "metadata": {},
   "outputs": [
    {
     "data": {
      "image/png": "[encoded data removed]",
      "text/plain": [
       "<Figure size 432x288 with 1 Axes>"
      ]
     },
     "metadata": {
      "needs_background": "light"
     },
     "output_type": "display_data"
    }
   ],
   "source": [
    "sns.regplot(\n",
    "    \n",
    "    x=\"critic_score\", \n",
    "    \n",
    "    y=\"total_sales\", \n",
    "    \n",
    "     data = review_and_sales)\n",
    "\n",
    "plt.show()"
   ]
  },
  {
   "cell_type": "markdown",
   "id": "149c73c2",
   "metadata": {},
   "source": [
    "The correlation coefficient shows a moderate relationship between sales and critical evaluation."
   ]
  },
  {
   "cell_type": "code",
   "execution_count": 58,
   "id": "db50ad4a",
   "metadata": {},
   "outputs": [
    {
     "data": {
      "text/plain": [
       "0.17492454775942587"
      ]
     },
     "execution_count": 58,
     "metadata": {},
     "output_type": "execute_result"
    }
   ],
   "source": [
    "review_and_sales['user_score'].corr(review_and_sales['total_sales'])"
   ]
  },
  {
   "cell_type": "code",
   "execution_count": 59,
   "id": "2eda297c",
   "metadata": {},
   "outputs": [
    {
     "data": {
      "image/png": "[encoded data removed]",
      "text/plain": [
       "<Figure size 432x288 with 1 Axes>"
      ]
     },
     "metadata": {
      "needs_background": "light"
     },
     "output_type": "display_data"
    }
   ],
   "source": [
    "sns.regplot(\n",
    "    \n",
    "    x=\"user_score\", \n",
    "    \n",
    "    y=\"total_sales\", \n",
    "    \n",
    "     data = review_and_sales)\n",
    "\n",
    "plt.show()"
   ]
  },
  {
   "cell_type": "markdown",
   "id": "57b68fd4",
   "metadata": {},
   "source": [
    "The correlation coefficient shows a weak relationship between sales and user ratings."
   ]
  },
  {
   "cell_type": "markdown",
   "id": "404588ae",
   "metadata": {},
   "source": [
    "We choose another popular platform to see if we can extrapolate the relationship results to other platforms."
   ]
  },
  {
   "cell_type": "code",
   "execution_count": 61,
   "id": "057ac1e9",
   "metadata": {},
   "outputs": [],
   "source": [
    "review_and_sale = data.query('platform == \"X360\"').copy()"
   ]
  },
  {
   "cell_type": "code",
   "execution_count": 62,
   "id": "90692e1b",
   "metadata": {},
   "outputs": [],
   "source": [
    "review_and_sale['critic_score'] = review_and_sale[\n",
    "    \n",
    "    'critic_score'].astype('float64')"
   ]
  },
  {
   "cell_type": "code",
   "execution_count": 63,
   "id": "80e9fd8d",
   "metadata": {},
   "outputs": [
    {
     "data": {
      "text/plain": [
       "0.3928658925400701"
      ]
     },
     "execution_count": 63,
     "metadata": {},
     "output_type": "execute_result"
    }
   ],
   "source": [
    "review_and_sale['critic_score'].corr(review_and_sale['total_sales'])"
   ]
  },
  {
   "cell_type": "code",
   "execution_count": 64,
   "id": "2122e32b",
   "metadata": {},
   "outputs": [
    {
     "data": {
      "image/png": "[encoded data removed]",
      "text/plain": [
       "<Figure size 432x288 with 1 Axes>"
      ]
     },
     "metadata": {
      "needs_background": "light"
     },
     "output_type": "display_data"
    }
   ],
   "source": [
    "sns.regplot(\n",
    "    \n",
    "    x=\"critic_score\", \n",
    "    \n",
    "    y=\"total_sales\", \n",
    "    \n",
    "     data = review_and_sale)\n",
    "\n",
    "plt.show()"
   ]
  },
  {
   "cell_type": "code",
   "execution_count": 65,
   "id": "176495b0",
   "metadata": {},
   "outputs": [
    {
     "data": {
      "text/plain": [
       "0.11418661214018037"
      ]
     },
     "execution_count": 65,
     "metadata": {},
     "output_type": "execute_result"
    }
   ],
   "source": [
    "review_and_sale['user_score'].corr(review_and_sale['total_sales'])"
   ]
  },
  {
   "cell_type": "code",
   "execution_count": 66,
   "id": "5a567df7",
   "metadata": {},
   "outputs": [
    {
     "data": {
      "image/png": "[encoded data removed]",
      "text/plain": [
       "<Figure size 432x288 with 1 Axes>"
      ]
     },
     "metadata": {
      "needs_background": "light"
     },
     "output_type": "display_data"
    }
   ],
   "source": [
    "sns.regplot(\n",
    "    \n",
    "    x=\"user_score\", \n",
    "    \n",
    "    y=\"total_sales\", \n",
    "    \n",
    "     data = review_and_sale)\n",
    "\n",
    "plt.show()"
   ]
  },
  {
   "cell_type": "markdown",
   "id": "a1609fb1",
   "metadata": {},
   "source": [
    "In fact, the results are similar, there is a moderate relation between sales and user ratings and a weak relation between sales and critics ratings. We can extrapolate the results to other platforms and say that ratings and reviews have almost no effect on sales."
   ]
  },
  {
   "cell_type": "markdown",
   "id": "2d96ef44",
   "metadata": {},
   "source": [
    "We are looking at the distribution of games by genre."
   ]
  },
  {
   "cell_type": "code",
   "execution_count": 68,
   "id": "bb6f7979",
   "metadata": {},
   "outputs": [],
   "source": [
    "game_genre = pd.pivot_table(\n",
    "    \n",
    "    data,\n",
    "    \n",
    "    index=[\"genre\"], \n",
    "    \n",
    "    values=[\"total_sales\"],\n",
    "    \n",
    "    aggfunc=('median')).sort_values(by='total_sales', ascending=False)"
   ]
  },
  {
   "cell_type": "code",
   "execution_count": 69,
   "id": "fd819016",
   "metadata": {},
   "outputs": [
    {
     "data": {
      "image/png": "[encoded data removed]",
      "text/plain": [
       "<Figure size 432x288 with 1 Axes>"
      ]
     },
     "metadata": {
      "needs_background": "light"
     },
     "output_type": "display_data"
    }
   ],
   "source": [
    "sns.histplot(data=game_genre, x=\"total_sales\", y='genre', shrink=.8, bins=20)\n",
    "\n",
    "plt.show()"
   ]
  },
  {
   "cell_type": "markdown",
   "id": "f1607bc9",
   "metadata": {},
   "source": [
    "Platformer, shooter and sports bring the most sales. Adventure, strategy, and puzzle games are the least sold."
   ]
  },
  {
   "cell_type": "markdown",
   "id": "edc09b4b",
   "metadata": {},
   "source": [
    "# User profile by region"
   ]
  },
  {
   "cell_type": "markdown",
   "id": "aac31360",
   "metadata": {},
   "source": [
    "Now let's analyze the user profile by region."
   ]
  },
  {
   "cell_type": "code",
   "execution_count": 70,
   "id": "13f66bb3",
   "metadata": {},
   "outputs": [],
   "source": [
    "north_america = pd.pivot_table(\n",
    "    \n",
    "    data, \n",
    "    \n",
    "    index='platform', \n",
    "    \n",
    "    values='na_sales',\n",
    "    \n",
    "    aggfunc='sum'\n",
    "    \n",
    ").sort_values(by='na_sales', ascending=False)\n"
   ]
  },
  {
   "cell_type": "code",
   "execution_count": 71,
   "id": "2a7be3c9",
   "metadata": {},
   "outputs": [
    {
     "data": {
      "text/html": [
       "<div>\n",
       "<style scoped>\n",
       "    .dataframe tbody tr th:only-of-type {\n",
       "        vertical-align: middle;\n",
       "    }\n",
       "\n",
       "    .dataframe tbody tr th {\n",
       "        vertical-align: top;\n",
       "    }\n",
       "\n",
       "    .dataframe thead th {\n",
       "        text-align: right;\n",
       "    }\n",
       "</style>\n",
       "<table border=\"1\" class=\"dataframe\">\n",
       "  <thead>\n",
       "    <tr style=\"text-align: right;\">\n",
       "      <th></th>\n",
       "      <th>na_sales</th>\n",
       "    </tr>\n",
       "    <tr>\n",
       "      <th>platform</th>\n",
       "      <th></th>\n",
       "    </tr>\n",
       "  </thead>\n",
       "  <tbody>\n",
       "    <tr>\n",
       "      <th>X360</th>\n",
       "      <td>595.74</td>\n",
       "    </tr>\n",
       "    <tr>\n",
       "      <th>PS2</th>\n",
       "      <td>572.80</td>\n",
       "    </tr>\n",
       "    <tr>\n",
       "      <th>Wii</th>\n",
       "      <td>486.25</td>\n",
       "    </tr>\n",
       "    <tr>\n",
       "      <th>PS3</th>\n",
       "      <td>390.13</td>\n",
       "    </tr>\n",
       "    <tr>\n",
       "      <th>DS</th>\n",
       "      <td>379.70</td>\n",
       "    </tr>\n",
       "  </tbody>\n",
       "</table>\n",
       "</div>"
      ],
      "text/plain": [
       "          na_sales\n",
       "platform          \n",
       "X360        595.74\n",
       "PS2         572.80\n",
       "Wii         486.25\n",
       "PS3         390.13\n",
       "DS          379.70"
      ]
     },
     "execution_count": 71,
     "metadata": {},
     "output_type": "execute_result"
    }
   ],
   "source": [
    "north_america.head()"
   ]
  },
  {
   "cell_type": "markdown",
   "id": "665c5dfe",
   "metadata": {},
   "source": [
    "We filter by the result obtained."
   ]
  },
  {
   "cell_type": "code",
   "execution_count": 73,
   "id": "65376082",
   "metadata": {},
   "outputs": [],
   "source": [
    "top5_na = north_america.query('na_sales > 380')"
   ]
  },
  {
   "cell_type": "code",
   "execution_count": 74,
   "id": "9b3b55a0",
   "metadata": {},
   "outputs": [
    {
     "data": {
      "image/png": "[encoded data removed]",
      "text/plain": [
       "<Figure size 432x288 with 1 Axes>"
      ]
     },
     "metadata": {
      "needs_background": "light"
     },
     "output_type": "display_data"
    }
   ],
   "source": [
    "sns.histplot(\n",
    "    \n",
    "    data=top5_na, \n",
    "    \n",
    "    x=\"na_sales\", \n",
    "    \n",
    "    y='platform', bins=5)\n",
    "\n",
    "plt.show()"
   ]
  },
  {
   "cell_type": "markdown",
   "id": "2cf48774",
   "metadata": {},
   "source": [
    "In North America, the user prefers X360, PS2 and Wii."
   ]
  },
  {
   "cell_type": "code",
   "execution_count": 75,
   "id": "cf3d88ff",
   "metadata": {},
   "outputs": [],
   "source": [
    "europe = pd.pivot_table(\n",
    "    \n",
    "    data, \n",
    "    \n",
    "    index='platform', \n",
    "    \n",
    "    values='eu_sales',\n",
    "    \n",
    "    aggfunc='sum'\n",
    "    \n",
    ").sort_values(by='eu_sales', ascending=False)\n"
   ]
  },
  {
   "cell_type": "code",
   "execution_count": 76,
   "id": "878ce805",
   "metadata": {},
   "outputs": [
    {
     "data": {
      "text/html": [
       "<div>\n",
       "<style scoped>\n",
       "    .dataframe tbody tr th:only-of-type {\n",
       "        vertical-align: middle;\n",
       "    }\n",
       "\n",
       "    .dataframe tbody tr th {\n",
       "        vertical-align: top;\n",
       "    }\n",
       "\n",
       "    .dataframe thead th {\n",
       "        text-align: right;\n",
       "    }\n",
       "</style>\n",
       "<table border=\"1\" class=\"dataframe\">\n",
       "  <thead>\n",
       "    <tr style=\"text-align: right;\">\n",
       "      <th></th>\n",
       "      <th>eu_sales</th>\n",
       "    </tr>\n",
       "    <tr>\n",
       "      <th>platform</th>\n",
       "      <th></th>\n",
       "    </tr>\n",
       "  </thead>\n",
       "  <tbody>\n",
       "    <tr>\n",
       "      <th>PS2</th>\n",
       "      <td>332.54</td>\n",
       "    </tr>\n",
       "    <tr>\n",
       "      <th>PS3</th>\n",
       "      <td>327.21</td>\n",
       "    </tr>\n",
       "    <tr>\n",
       "      <th>X360</th>\n",
       "      <td>268.32</td>\n",
       "    </tr>\n",
       "    <tr>\n",
       "      <th>Wii</th>\n",
       "      <td>258.32</td>\n",
       "    </tr>\n",
       "    <tr>\n",
       "      <th>PS</th>\n",
       "      <td>212.23</td>\n",
       "    </tr>\n",
       "  </tbody>\n",
       "</table>\n",
       "</div>"
      ],
      "text/plain": [
       "          eu_sales\n",
       "platform          \n",
       "PS2         332.54\n",
       "PS3         327.21\n",
       "X360        268.32\n",
       "Wii         258.32\n",
       "PS          212.23"
      ]
     },
     "execution_count": 76,
     "metadata": {},
     "output_type": "execute_result"
    }
   ],
   "source": [
    "europe.head()"
   ]
  },
  {
   "cell_type": "code",
   "execution_count": 77,
   "id": "7c652610",
   "metadata": {},
   "outputs": [],
   "source": [
    "top5_eu = europe.query('eu_sales > 200')"
   ]
  },
  {
   "cell_type": "code",
   "execution_count": 78,
   "id": "4f5faa79",
   "metadata": {},
   "outputs": [
    {
     "data": {
      "image/png": "[encoded data removed]",
      "text/plain": [
       "<Figure size 432x288 with 1 Axes>"
      ]
     },
     "metadata": {
      "needs_background": "light"
     },
     "output_type": "display_data"
    }
   ],
   "source": [
    "sns.histplot(\n",
    "    \n",
    "    data=top5_eu, \n",
    "    \n",
    "    x=\"eu_sales\", \n",
    "    \n",
    "    y='platform', bins=5)\n",
    "\n",
    "plt.show()"
   ]
  },
  {
   "cell_type": "markdown",
   "id": "73302f28",
   "metadata": {},
   "source": [
    "In Europe, the user chooses PS2, PS3 and X360 more often."
   ]
  },
  {
   "cell_type": "code",
   "execution_count": 79,
   "id": "de7776b7",
   "metadata": {},
   "outputs": [],
   "source": [
    "japan = pd.pivot_table(\n",
    "    \n",
    "    data, \n",
    "    \n",
    "    index='platform', \n",
    "    \n",
    "    values='jp_sales',\n",
    "    \n",
    "    aggfunc='sum'\n",
    "    \n",
    ").sort_values(by='jp_sales', ascending=False)"
   ]
  },
  {
   "cell_type": "code",
   "execution_count": 80,
   "id": "f15b643d",
   "metadata": {},
   "outputs": [
    {
     "data": {
      "text/html": [
       "<div>\n",
       "<style scoped>\n",
       "    .dataframe tbody tr th:only-of-type {\n",
       "        vertical-align: middle;\n",
       "    }\n",
       "\n",
       "    .dataframe tbody tr th {\n",
       "        vertical-align: top;\n",
       "    }\n",
       "\n",
       "    .dataframe thead th {\n",
       "        text-align: right;\n",
       "    }\n",
       "</style>\n",
       "<table border=\"1\" class=\"dataframe\">\n",
       "  <thead>\n",
       "    <tr style=\"text-align: right;\">\n",
       "      <th></th>\n",
       "      <th>jp_sales</th>\n",
       "    </tr>\n",
       "    <tr>\n",
       "      <th>platform</th>\n",
       "      <th></th>\n",
       "    </tr>\n",
       "  </thead>\n",
       "  <tbody>\n",
       "    <tr>\n",
       "      <th>DS</th>\n",
       "      <td>175.02</td>\n",
       "    </tr>\n",
       "    <tr>\n",
       "      <th>PS</th>\n",
       "      <td>138.32</td>\n",
       "    </tr>\n",
       "    <tr>\n",
       "      <th>PS2</th>\n",
       "      <td>137.54</td>\n",
       "    </tr>\n",
       "    <tr>\n",
       "      <th>SNES</th>\n",
       "      <td>116.55</td>\n",
       "    </tr>\n",
       "    <tr>\n",
       "      <th>3DS</th>\n",
       "      <td>100.62</td>\n",
       "    </tr>\n",
       "  </tbody>\n",
       "</table>\n",
       "</div>"
      ],
      "text/plain": [
       "          jp_sales\n",
       "platform          \n",
       "DS          175.02\n",
       "PS          138.32\n",
       "PS2         137.54\n",
       "SNES        116.55\n",
       "3DS         100.62"
      ]
     },
     "execution_count": 80,
     "metadata": {},
     "output_type": "execute_result"
    }
   ],
   "source": [
    "japan.head()"
   ]
  },
  {
   "cell_type": "code",
   "execution_count": 81,
   "id": "49ee8caa",
   "metadata": {},
   "outputs": [],
   "source": [
    "top5_jp = japan.query('jp_sales > 100')"
   ]
  },
  {
   "cell_type": "code",
   "execution_count": 82,
   "id": "5775ebb7",
   "metadata": {},
   "outputs": [
    {
     "data": {
      "image/png": "[encoded data removed]",
      "text/plain": [
       "<Figure size 432x288 with 1 Axes>"
      ]
     },
     "metadata": {
      "needs_background": "light"
     },
     "output_type": "display_data"
    }
   ],
   "source": [
    "sns.histplot(\n",
    "    \n",
    "    data=top5_jp, \n",
    "    \n",
    "    x=\"jp_sales\", \n",
    "    \n",
    "    y='platform', bins=5)\n",
    "\n",
    "plt.show()"
   ]
  },
  {
   "cell_type": "markdown",
   "id": "9b42a016",
   "metadata": {},
   "source": [
    "The Japanese user is different from everyone else. He likes DS, PS and PS2 in third place."
   ]
  },
  {
   "cell_type": "code",
   "execution_count": 83,
   "id": "ae2034e7",
   "metadata": {},
   "outputs": [],
   "source": [
    "na_total_prop = (data['na_sales'].sum() / data['total_sales'].sum()) * 100"
   ]
  },
  {
   "cell_type": "code",
   "execution_count": 84,
   "id": "039bc9a3",
   "metadata": {},
   "outputs": [],
   "source": [
    "eu_total_prop = (data['eu_sales'].sum() / data['total_sales'].sum()) * 100"
   ]
  },
  {
   "cell_type": "code",
   "execution_count": 85,
   "id": "64e1164c",
   "metadata": {},
   "outputs": [],
   "source": [
    "jp_total_prop = (data['jp_sales'].sum() / data['total_sales'].sum()) * 100"
   ]
  },
  {
   "cell_type": "code",
   "execution_count": 86,
   "id": "8220f65d",
   "metadata": {},
   "outputs": [],
   "source": [
    "pie = [na_total_prop, eu_total_prop, jp_total_prop]"
   ]
  },
  {
   "cell_type": "code",
   "execution_count": 89,
   "id": "1ee23d61",
   "metadata": {},
   "outputs": [
    {
     "data": {
      "image/png": "[encoded data removed]",
      "text/plain": [
       "<Figure size 864x360 with 1 Axes>"
      ]
     },
     "metadata": {},
     "output_type": "display_data"
    }
   ],
   "source": [
    "labels = 'North America', 'Europe', 'Japan'\n",
    "\n",
    "plt.figure(figsize=(12,5))\n",
    "\n",
    "plt.pie(\n",
    "    \n",
    "    x=pie,\n",
    "    \n",
    "    labels=labels, \n",
    "    \n",
    "    autopct='%1.1f%%',\n",
    "    \n",
    "    shadow=True, \n",
    "    \n",
    "    startangle=90\n",
    "\n",
    ")\n",
    "plt.title('Total Sales by Regions',fontsize = 15)\n",
    "\n",
    "plt.show()\n"
   ]
  },
  {
   "cell_type": "markdown",
   "id": "1d279f83",
   "metadata": {},
   "source": [
    "Most games are bought by users from the USA, followed by the EU and Japan."
   ]
  },
  {
   "cell_type": "code",
   "execution_count": 90,
   "id": "885736f3",
   "metadata": {},
   "outputs": [],
   "source": [
    "north_america_genre = pd.pivot_table(\n",
    "    \n",
    "    data, \n",
    "    \n",
    "    index='genre', \n",
    "    \n",
    "    values='na_sales',\n",
    "    \n",
    "    aggfunc='sum'\n",
    "    \n",
    ").sort_values(by='na_sales', ascending=False)\n"
   ]
  },
  {
   "cell_type": "code",
   "execution_count": 91,
   "id": "559995bc",
   "metadata": {},
   "outputs": [
    {
     "data": {
      "text/html": [
       "<div>\n",
       "<style scoped>\n",
       "    .dataframe tbody tr th:only-of-type {\n",
       "        vertical-align: middle;\n",
       "    }\n",
       "\n",
       "    .dataframe tbody tr th {\n",
       "        vertical-align: top;\n",
       "    }\n",
       "\n",
       "    .dataframe thead th {\n",
       "        text-align: right;\n",
       "    }\n",
       "</style>\n",
       "<table border=\"1\" class=\"dataframe\">\n",
       "  <thead>\n",
       "    <tr style=\"text-align: right;\">\n",
       "      <th></th>\n",
       "      <th>na_sales</th>\n",
       "    </tr>\n",
       "    <tr>\n",
       "      <th>genre</th>\n",
       "      <th></th>\n",
       "    </tr>\n",
       "  </thead>\n",
       "  <tbody>\n",
       "    <tr>\n",
       "      <th>Action</th>\n",
       "      <td>861.49</td>\n",
       "    </tr>\n",
       "    <tr>\n",
       "      <th>Sports</th>\n",
       "      <td>671.20</td>\n",
       "    </tr>\n",
       "    <tr>\n",
       "      <th>Shooter</th>\n",
       "      <td>584.83</td>\n",
       "    </tr>\n",
       "    <tr>\n",
       "      <th>Platform</th>\n",
       "      <td>444.44</td>\n",
       "    </tr>\n",
       "    <tr>\n",
       "      <th>Misc</th>\n",
       "      <td>398.41</td>\n",
       "    </tr>\n",
       "  </tbody>\n",
       "</table>\n",
       "</div>"
      ],
      "text/plain": [
       "          na_sales\n",
       "genre             \n",
       "Action      861.49\n",
       "Sports      671.20\n",
       "Shooter     584.83\n",
       "Platform    444.44\n",
       "Misc        398.41"
      ]
     },
     "execution_count": 91,
     "metadata": {},
     "output_type": "execute_result"
    }
   ],
   "source": [
    "north_america_genre.head()"
   ]
  },
  {
   "cell_type": "code",
   "execution_count": 92,
   "id": "7df2c24d",
   "metadata": {},
   "outputs": [],
   "source": [
    "top5_na_genre = north_america_genre.query('na_sales > 400')"
   ]
  },
  {
   "cell_type": "code",
   "execution_count": 93,
   "id": "5f2a6d99",
   "metadata": {},
   "outputs": [],
   "source": [
    "genre_na_prop = (\n",
    "    \n",
    "    top5_na_genre['na_sales'] / top5_na_genre['na_sales'].sum()) * 100"
   ]
  },
  {
   "cell_type": "code",
   "execution_count": 94,
   "id": "cd923319",
   "metadata": {},
   "outputs": [
    {
     "data": {
      "text/plain": [
       "genre\n",
       "Action      33.626208\n",
       "Sports      26.198692\n",
       "Shooter     22.827445\n",
       "Platform    17.347656\n",
       "Name: na_sales, dtype: float64"
      ]
     },
     "execution_count": 94,
     "metadata": {},
     "output_type": "execute_result"
    }
   ],
   "source": [
    "genre_na_prop.head()"
   ]
  },
  {
   "cell_type": "code",
   "execution_count": 102,
   "id": "88877e9d",
   "metadata": {},
   "outputs": [
    {
     "data": {
      "image/png": "[encoded data removed]",
      "text/plain": [
       "<Figure size 864x360 with 1 Axes>"
      ]
     },
     "metadata": {},
     "output_type": "display_data"
    }
   ],
   "source": [
    "labels = 'Action', 'Sports', 'Shooter', 'Platform', 'Misc'\n",
    "\n",
    "prop_na = [29.21, 22.75,  19.68, 14.80, 13.53]\n",
    "\n",
    "plt.figure(figsize=(12,5))\n",
    "\n",
    "plt.pie(\n",
    "    \n",
    "    x = prop_na,\n",
    "    \n",
    "    labels=labels, \n",
    "    \n",
    "    autopct='%1.1f%%',\n",
    "    \n",
    "    shadow=True, \n",
    "    \n",
    "    startangle=90\n",
    "\n",
    ")\n",
    "\n",
    "plt.title('Share of Sales by Game Genre in North America',fontsize = 15)\n",
    "\n",
    "plt.show()\n"
   ]
  },
  {
   "cell_type": "markdown",
   "id": "880aef5d",
   "metadata": {},
   "source": [
    "The genres that sell the most in North America are action, sports and shooting."
   ]
  },
  {
   "cell_type": "code",
   "execution_count": 96,
   "id": "8f96b047",
   "metadata": {},
   "outputs": [],
   "source": [
    "europe_genre = pd.pivot_table(\n",
    "    \n",
    "    data, \n",
    "    \n",
    "    index='genre', \n",
    "    \n",
    "    values='eu_sales',\n",
    "    \n",
    "    aggfunc='sum'\n",
    "    \n",
    ").sort_values(by='eu_sales', ascending=False)"
   ]
  },
  {
   "cell_type": "code",
   "execution_count": 97,
   "id": "6100d12b",
   "metadata": {},
   "outputs": [
    {
     "data": {
      "text/html": [
       "<div>\n",
       "<style scoped>\n",
       "    .dataframe tbody tr th:only-of-type {\n",
       "        vertical-align: middle;\n",
       "    }\n",
       "\n",
       "    .dataframe tbody tr th {\n",
       "        vertical-align: top;\n",
       "    }\n",
       "\n",
       "    .dataframe thead th {\n",
       "        text-align: right;\n",
       "    }\n",
       "</style>\n",
       "<table border=\"1\" class=\"dataframe\">\n",
       "  <thead>\n",
       "    <tr style=\"text-align: right;\">\n",
       "      <th></th>\n",
       "      <th>eu_sales</th>\n",
       "    </tr>\n",
       "    <tr>\n",
       "      <th>genre</th>\n",
       "      <th></th>\n",
       "    </tr>\n",
       "  </thead>\n",
       "  <tbody>\n",
       "    <tr>\n",
       "      <th>Action</th>\n",
       "      <td>510.38</td>\n",
       "    </tr>\n",
       "    <tr>\n",
       "      <th>Sports</th>\n",
       "      <td>371.33</td>\n",
       "    </tr>\n",
       "    <tr>\n",
       "      <th>Shooter</th>\n",
       "      <td>314.52</td>\n",
       "    </tr>\n",
       "    <tr>\n",
       "      <th>Racing</th>\n",
       "      <td>234.49</td>\n",
       "    </tr>\n",
       "    <tr>\n",
       "      <th>Misc</th>\n",
       "      <td>210.44</td>\n",
       "    </tr>\n",
       "  </tbody>\n",
       "</table>\n",
       "</div>"
      ],
      "text/plain": [
       "         eu_sales\n",
       "genre            \n",
       "Action     510.38\n",
       "Sports     371.33\n",
       "Shooter    314.52\n",
       "Racing     234.49\n",
       "Misc       210.44"
      ]
     },
     "execution_count": 97,
     "metadata": {},
     "output_type": "execute_result"
    }
   ],
   "source": [
    "europe_genre.head()"
   ]
  },
  {
   "cell_type": "code",
   "execution_count": 98,
   "id": "4dac6a66",
   "metadata": {},
   "outputs": [],
   "source": [
    "top5_eu_genre = europe_genre.query('eu_sales > 200')"
   ]
  },
  {
   "cell_type": "code",
   "execution_count": 99,
   "id": "b3f6e804",
   "metadata": {},
   "outputs": [],
   "source": [
    "genre_eu_prop = (\n",
    "    \n",
    "    top5_eu_genre['eu_sales'] / top5_eu_genre['eu_sales'].sum()) * 100"
   ]
  },
  {
   "cell_type": "code",
   "execution_count": 100,
   "id": "b56eb915",
   "metadata": {},
   "outputs": [
    {
     "data": {
      "text/plain": [
       "genre\n",
       "Action     31.098735\n",
       "Sports     22.626069\n",
       "Shooter    19.164493\n",
       "Racing     14.288065\n",
       "Misc       12.822638\n",
       "Name: eu_sales, dtype: float64"
      ]
     },
     "execution_count": 100,
     "metadata": {},
     "output_type": "execute_result"
    }
   ],
   "source": [
    "genre_eu_prop.head()"
   ]
  },
  {
   "cell_type": "code",
   "execution_count": 101,
   "id": "8656f72d",
   "metadata": {},
   "outputs": [
    {
     "data": {
      "image/png": "[encoded data removed]",
      "text/plain": [
       "<Figure size 864x360 with 1 Axes>"
      ]
     },
     "metadata": {},
     "output_type": "display_data"
    }
   ],
   "source": [
    "labels = 'Action', 'Sports', 'Shooter', 'Racing', 'Misc'\n",
    "\n",
    "prop_eu = [21.4, 15.5, 17.03,  12.69, 11.42]\n",
    "\n",
    "plt.figure(figsize=(12,5))\n",
    "\n",
    "plt.pie(\n",
    "    \n",
    "    x = prop_eu,\n",
    "    \n",
    "    labels=labels, \n",
    "    \n",
    "    autopct='%1.1f%%',\n",
    "    \n",
    "    shadow=True, \n",
    "    \n",
    "    startangle=90\n",
    "\n",
    ")\n",
    "\n",
    "plt.title('Share of Sales by Game Genre in Europe',fontsize = 15)\n",
    "\n",
    "plt.show()"
   ]
  },
  {
   "cell_type": "markdown",
   "id": "6d0651ca",
   "metadata": {},
   "source": [
    "In Europe, the most popular genres are action, sports, shooting and auto racing."
   ]
  },
  {
   "cell_type": "code",
   "execution_count": 103,
   "id": "9a8742dc",
   "metadata": {},
   "outputs": [],
   "source": [
    "japan_genre = pd.pivot_table(\n",
    "    \n",
    "    data, \n",
    "    \n",
    "    index='genre', \n",
    "    \n",
    "    values='jp_sales',\n",
    "    \n",
    "    aggfunc='sum'\n",
    "    \n",
    ").sort_values(by='jp_sales', ascending=False)"
   ]
  },
  {
   "cell_type": "code",
   "execution_count": 104,
   "id": "89fe6669",
   "metadata": {},
   "outputs": [
    {
     "data": {
      "text/html": [
       "<div>\n",
       "<style scoped>\n",
       "    .dataframe tbody tr th:only-of-type {\n",
       "        vertical-align: middle;\n",
       "    }\n",
       "\n",
       "    .dataframe tbody tr th {\n",
       "        vertical-align: top;\n",
       "    }\n",
       "\n",
       "    .dataframe thead th {\n",
       "        text-align: right;\n",
       "    }\n",
       "</style>\n",
       "<table border=\"1\" class=\"dataframe\">\n",
       "  <thead>\n",
       "    <tr style=\"text-align: right;\">\n",
       "      <th></th>\n",
       "      <th>jp_sales</th>\n",
       "    </tr>\n",
       "    <tr>\n",
       "      <th>genre</th>\n",
       "      <th></th>\n",
       "    </tr>\n",
       "  </thead>\n",
       "  <tbody>\n",
       "    <tr>\n",
       "      <th>Role-Playing</th>\n",
       "      <td>353.39</td>\n",
       "    </tr>\n",
       "    <tr>\n",
       "      <th>Action</th>\n",
       "      <td>160.14</td>\n",
       "    </tr>\n",
       "    <tr>\n",
       "      <th>Sports</th>\n",
       "      <td>134.93</td>\n",
       "    </tr>\n",
       "    <tr>\n",
       "      <th>Platform</th>\n",
       "      <td>130.71</td>\n",
       "    </tr>\n",
       "    <tr>\n",
       "      <th>Misc</th>\n",
       "      <td>105.56</td>\n",
       "    </tr>\n",
       "  </tbody>\n",
       "</table>\n",
       "</div>"
      ],
      "text/plain": [
       "              jp_sales\n",
       "genre                 \n",
       "Role-Playing    353.39\n",
       "Action          160.14\n",
       "Sports          134.93\n",
       "Platform        130.71\n",
       "Misc            105.56"
      ]
     },
     "execution_count": 104,
     "metadata": {},
     "output_type": "execute_result"
    }
   ],
   "source": [
    "japan_genre.head()"
   ]
  },
  {
   "cell_type": "code",
   "execution_count": 105,
   "id": "281c1a76",
   "metadata": {},
   "outputs": [],
   "source": [
    "top5_jp_genre = japan_genre.query('jp_sales > 100')"
   ]
  },
  {
   "cell_type": "code",
   "execution_count": 106,
   "id": "8a0c4c7b",
   "metadata": {},
   "outputs": [],
   "source": [
    "genre_jp_prop = (\n",
    "    \n",
    "    top5_jp_genre['jp_sales'] / top5_jp_genre['jp_sales'].sum()) * 100"
   ]
  },
  {
   "cell_type": "code",
   "execution_count": 107,
   "id": "928b1c99",
   "metadata": {},
   "outputs": [
    {
     "data": {
      "image/png": "[encoded data removed]",
      "text/plain": [
       "<Figure size 864x360 with 1 Axes>"
      ]
     },
     "metadata": {},
     "output_type": "display_data"
    }
   ],
   "source": [
    "labels = 'Role-Playing', 'Action', 'Sports', 'Platform', 'Misc'\n",
    "\n",
    "prop_jp = [39.87, 18.11, 15.20,  14.67, 12.12]\n",
    "\n",
    "plt.figure(figsize=(12,5))\n",
    "\n",
    "plt.pie(\n",
    "    \n",
    "    x = prop_eu,\n",
    "    \n",
    "    labels=labels, \n",
    "    \n",
    "    autopct='%1.1f%%',\n",
    "    \n",
    "    shadow=True, \n",
    "    \n",
    "    startangle=90\n",
    "\n",
    ")\n",
    "\n",
    "plt.title('Share of Sales by Game Genre in Japan',fontsize = 15)\n",
    "\n",
    "plt.show()"
   ]
  },
  {
   "cell_type": "markdown",
   "id": "b0961ece",
   "metadata": {},
   "source": [
    "In Japan, the most popular genres are role-playing games, sports and action. Thus, the Japanese population is most different from the rest of the studied regions."
   ]
  },
  {
   "cell_type": "code",
   "execution_count": 110,
   "id": "3f4bdf37",
   "metadata": {},
   "outputs": [
    {
     "data": {
      "image/png": "[encoded data removed]",
      "text/plain": [
       "<Figure size 1080x360 with 3 Axes>"
      ]
     },
     "metadata": {},
     "output_type": "display_data"
    }
   ],
   "source": [
    "# we create list of regions\n",
    "\n",
    "countries = data.columns[4:7]\n",
    "\n",
    "# we draw a pie chart for each region\n",
    "\n",
    "fig, axs = plt.subplots(1, 3, figsize=(15, 5))\n",
    "\n",
    "# let's choose the 5 most selling platforms\n",
    "\n",
    "fig.suptitle('Top 5 Platforms by Region')\n",
    "\n",
    "for i in range(3):\n",
    "    \n",
    "\n",
    "  df_i = (data.groupby('platform')[countries[i]].sum().\n",
    "             reset_index().\n",
    "             sort_values(countries[i], ascending = False, ignore_index = True).\n",
    "             head(5))\n",
    "    \n",
    "  # let's put all the rest of the sales in Other_platforms\n",
    "\n",
    "  df_i = df_i.append({\n",
    "      \n",
    "      'platform': 'Other_platforms',\n",
    "      \n",
    "      countries[i]: data[countries[i]].sum() - df_i[\n",
    "          \n",
    "          countries[i]].sum()}, ignore_index= True)\n",
    "    \n",
    "  axs[i].pie(df_i[countries[i]], labels = df_i['platform'])\n",
    "\n",
    "# Let's set the name of the region.\n",
    "    \n",
    "  axs[i].set_title(df_i.columns[1].split('_')[0].upper())\n",
    "plt.show()"
   ]
  },
  {
   "cell_type": "markdown",
   "id": "50879b8f",
   "metadata": {},
   "source": [
    "The category of other platforms is most common in all regions, however, we found differences between the platforms. \n",
    "\n",
    "The PS series is more successful in Europe, while in North America, in addition to the PS2, the X360 and Wii also find their place. \n",
    "\n",
    "Japan is the region that is most different: DS is in second place, and SNES and 3DS are absent in the rest of the regions."
   ]
  },
  {
   "cell_type": "markdown",
   "id": "839b061a",
   "metadata": {},
   "source": [
    "Now we will analyze the relationship between rating and sales by region using the same methodology as in the previous steps, but this time using a histogram instead of a pie chart."
   ]
  },
  {
   "cell_type": "code",
   "execution_count": 111,
   "id": "8f9d906c",
   "metadata": {},
   "outputs": [],
   "source": [
    "na_rating = pd.pivot_table(\n",
    "    \n",
    "    data, \n",
    "    \n",
    "    index='rating', \n",
    "    \n",
    "    values='na_sales',\n",
    "    \n",
    "    aggfunc='sum'\n",
    "    \n",
    ").sort_values(by='na_sales', ascending=False)"
   ]
  },
  {
   "cell_type": "code",
   "execution_count": 112,
   "id": "96b2fb68",
   "metadata": {},
   "outputs": [
    {
     "data": {
      "text/html": [
       "<div>\n",
       "<style scoped>\n",
       "    .dataframe tbody tr th:only-of-type {\n",
       "        vertical-align: middle;\n",
       "    }\n",
       "\n",
       "    .dataframe tbody tr th {\n",
       "        vertical-align: top;\n",
       "    }\n",
       "\n",
       "    .dataframe thead th {\n",
       "        text-align: right;\n",
       "    }\n",
       "</style>\n",
       "<table border=\"1\" class=\"dataframe\">\n",
       "  <thead>\n",
       "    <tr style=\"text-align: right;\">\n",
       "      <th></th>\n",
       "      <th>na_sales</th>\n",
       "    </tr>\n",
       "    <tr>\n",
       "      <th>rating</th>\n",
       "      <th></th>\n",
       "    </tr>\n",
       "  </thead>\n",
       "  <tbody>\n",
       "    <tr>\n",
       "      <th>E</th>\n",
       "      <td>1274.24</td>\n",
       "    </tr>\n",
       "    <tr>\n",
       "      <th>unknown</th>\n",
       "      <td>1225.84</td>\n",
       "    </tr>\n",
       "    <tr>\n",
       "      <th>T</th>\n",
       "      <td>747.60</td>\n",
       "    </tr>\n",
       "    <tr>\n",
       "      <th>M</th>\n",
       "      <td>742.89</td>\n",
       "    </tr>\n",
       "    <tr>\n",
       "      <th>E10+</th>\n",
       "      <td>345.50</td>\n",
       "    </tr>\n",
       "  </tbody>\n",
       "</table>\n",
       "</div>"
      ],
      "text/plain": [
       "         na_sales\n",
       "rating           \n",
       "E         1274.24\n",
       "unknown   1225.84\n",
       "T          747.60\n",
       "M          742.89\n",
       "E10+       345.50"
      ]
     },
     "execution_count": 112,
     "metadata": {},
     "output_type": "execute_result"
    }
   ],
   "source": [
    "na_rating.head()"
   ]
  },
  {
   "cell_type": "code",
   "execution_count": 113,
   "id": "1d85c801",
   "metadata": {},
   "outputs": [],
   "source": [
    "na_rating_sales = na_rating.query('na_sales > 100')"
   ]
  },
  {
   "cell_type": "code",
   "execution_count": 115,
   "id": "a852cf82",
   "metadata": {},
   "outputs": [
    {
     "data": {
      "image/png": "[encoded data removed]",
      "text/plain": [
       "<Figure size 432x288 with 1 Axes>"
      ]
     },
     "metadata": {
      "needs_background": "light"
     },
     "output_type": "display_data"
    }
   ],
   "source": [
    "sns.barplot(data=na_rating_sales,\n",
    "            \n",
    "            x=na_rating_sales.index,\n",
    "            \n",
    "            y='na_sales')\n",
    "\n",
    "plt.title('Relationship between Sales and Games Rating in North America \\n',\n",
    "          \n",
    "          fontsize = 16, \n",
    "          \n",
    "          color = 'Black')\n",
    "\n",
    "plt.xlabel('Rating',fontsize = 14)\n",
    "\n",
    "plt.ylabel('Sales',fontsize = 14)\n",
    "\n",
    "plt.show()"
   ]
  },
  {
   "cell_type": "markdown",
   "id": "30b3ca39",
   "metadata": {},
   "source": [
    "The games that sell the most in North America belong to the category suitable for any audience. Secondly, an unknown category. The categories of teenagers and adults from 17 years old are equal, and the category from 10 years old is in last place."
   ]
  },
  {
   "cell_type": "code",
   "execution_count": 116,
   "id": "998c9f04",
   "metadata": {},
   "outputs": [],
   "source": [
    "eu_rating = pd.pivot_table(\n",
    "    \n",
    "    data, \n",
    "    \n",
    "    index='rating', \n",
    "    \n",
    "    values='eu_sales',\n",
    "    \n",
    "    aggfunc='sum'\n",
    "    \n",
    ").sort_values(by='eu_sales', ascending=False)"
   ]
  },
  {
   "cell_type": "code",
   "execution_count": 117,
   "id": "2ab19228",
   "metadata": {},
   "outputs": [
    {
     "data": {
      "text/html": [
       "<div>\n",
       "<style scoped>\n",
       "    .dataframe tbody tr th:only-of-type {\n",
       "        vertical-align: middle;\n",
       "    }\n",
       "\n",
       "    .dataframe tbody tr th {\n",
       "        vertical-align: top;\n",
       "    }\n",
       "\n",
       "    .dataframe thead th {\n",
       "        text-align: right;\n",
       "    }\n",
       "</style>\n",
       "<table border=\"1\" class=\"dataframe\">\n",
       "  <thead>\n",
       "    <tr style=\"text-align: right;\">\n",
       "      <th></th>\n",
       "      <th>eu_sales</th>\n",
       "    </tr>\n",
       "    <tr>\n",
       "      <th>rating</th>\n",
       "      <th></th>\n",
       "    </tr>\n",
       "  </thead>\n",
       "  <tbody>\n",
       "    <tr>\n",
       "      <th>E</th>\n",
       "      <td>703.87</td>\n",
       "    </tr>\n",
       "    <tr>\n",
       "      <th>unknown</th>\n",
       "      <td>609.65</td>\n",
       "    </tr>\n",
       "    <tr>\n",
       "      <th>M</th>\n",
       "      <td>480.00</td>\n",
       "    </tr>\n",
       "    <tr>\n",
       "      <th>T</th>\n",
       "      <td>421.79</td>\n",
       "    </tr>\n",
       "    <tr>\n",
       "      <th>E10+</th>\n",
       "      <td>183.35</td>\n",
       "    </tr>\n",
       "  </tbody>\n",
       "</table>\n",
       "</div>"
      ],
      "text/plain": [
       "         eu_sales\n",
       "rating           \n",
       "E          703.87\n",
       "unknown    609.65\n",
       "M          480.00\n",
       "T          421.79\n",
       "E10+       183.35"
      ]
     },
     "execution_count": 117,
     "metadata": {},
     "output_type": "execute_result"
    }
   ],
   "source": [
    "eu_rating.head()"
   ]
  },
  {
   "cell_type": "code",
   "execution_count": 118,
   "id": "5a68f8ff",
   "metadata": {},
   "outputs": [],
   "source": [
    "eu_rating_sales = eu_rating.query('eu_sales > 0.6')"
   ]
  },
  {
   "cell_type": "code",
   "execution_count": 120,
   "id": "eaf84645",
   "metadata": {},
   "outputs": [
    {
     "data": {
      "image/png": "[encoded data removed]",
      "text/plain": [
       "<Figure size 432x288 with 1 Axes>"
      ]
     },
     "metadata": {
      "needs_background": "light"
     },
     "output_type": "display_data"
    }
   ],
   "source": [
    "sns.barplot(data=eu_rating_sales,\n",
    "            \n",
    "            x=eu_rating_sales.index,\n",
    "            \n",
    "            y='eu_sales')\n",
    "\n",
    "plt.title('Relationship between Sales and Games Rating in Europe \\n',\n",
    "          \n",
    "          fontsize = 16, \n",
    "          \n",
    "          color = 'Black')\n",
    "\n",
    "plt.xlabel('Rating',fontsize = 14)\n",
    "\n",
    "plt.ylabel('Sales',fontsize = 14)\n",
    "\n",
    "plt.show()"
   ]
  },
  {
   "cell_type": "markdown",
   "id": "a1cd557c",
   "metadata": {},
   "source": [
    "In Europe, as in North America, the category intended for all audiences is sold the most, but the second place is occupied by the unknown category, the third place is for adults from 17 years old, the fourth place is for teenagers, and the last is the category intended for an audience over 10 years old."
   ]
  },
  {
   "cell_type": "code",
   "execution_count": 121,
   "id": "502249d7",
   "metadata": {},
   "outputs": [],
   "source": [
    "jp_rating = pd.pivot_table(\n",
    "    \n",
    "    data, \n",
    "    \n",
    "    index='rating', \n",
    "    \n",
    "    values='jp_sales',\n",
    "    \n",
    "    aggfunc='sum'\n",
    "    \n",
    ").sort_values(by='jp_sales', ascending=False)"
   ]
  },
  {
   "cell_type": "code",
   "execution_count": 122,
   "id": "aebe1fd2",
   "metadata": {},
   "outputs": [
    {
     "data": {
      "text/html": [
       "<div>\n",
       "<style scoped>\n",
       "    .dataframe tbody tr th:only-of-type {\n",
       "        vertical-align: middle;\n",
       "    }\n",
       "\n",
       "    .dataframe tbody tr th {\n",
       "        vertical-align: top;\n",
       "    }\n",
       "\n",
       "    .dataframe thead th {\n",
       "        text-align: right;\n",
       "    }\n",
       "</style>\n",
       "<table border=\"1\" class=\"dataframe\">\n",
       "  <thead>\n",
       "    <tr style=\"text-align: right;\">\n",
       "      <th></th>\n",
       "      <th>jp_sales</th>\n",
       "    </tr>\n",
       "    <tr>\n",
       "      <th>rating</th>\n",
       "      <th></th>\n",
       "    </tr>\n",
       "  </thead>\n",
       "  <tbody>\n",
       "    <tr>\n",
       "      <th>unknown</th>\n",
       "      <td>836.74</td>\n",
       "    </tr>\n",
       "    <tr>\n",
       "      <th>E</th>\n",
       "      <td>197.96</td>\n",
       "    </tr>\n",
       "    <tr>\n",
       "      <th>T</th>\n",
       "      <td>150.70</td>\n",
       "    </tr>\n",
       "    <tr>\n",
       "      <th>M</th>\n",
       "      <td>63.58</td>\n",
       "    </tr>\n",
       "    <tr>\n",
       "      <th>E10+</th>\n",
       "      <td>40.20</td>\n",
       "    </tr>\n",
       "  </tbody>\n",
       "</table>\n",
       "</div>"
      ],
      "text/plain": [
       "         jp_sales\n",
       "rating           \n",
       "unknown    836.74\n",
       "E          197.96\n",
       "T          150.70\n",
       "M           63.58\n",
       "E10+        40.20"
      ]
     },
     "execution_count": 122,
     "metadata": {},
     "output_type": "execute_result"
    }
   ],
   "source": [
    "jp_rating.head()"
   ]
  },
  {
   "cell_type": "code",
   "execution_count": 123,
   "id": "0f30aba7",
   "metadata": {},
   "outputs": [],
   "source": [
    "jp_rating_sales = jp_rating.query('jp_sales > 1.4')"
   ]
  },
  {
   "cell_type": "code",
   "execution_count": 126,
   "id": "524277aa",
   "metadata": {},
   "outputs": [
    {
     "data": {
      "image/png": "[encoded data removed]",
      "text/plain": [
       "<Figure size 432x288 with 1 Axes>"
      ]
     },
     "metadata": {
      "needs_background": "light"
     },
     "output_type": "display_data"
    }
   ],
   "source": [
    "sns.barplot(data=jp_rating_sales,\n",
    "            \n",
    "            x=jp_rating_sales.index,\n",
    "            \n",
    "            y='jp_sales')\n",
    "\n",
    "plt.title('Relationship between Sales and Games Rating in Europe \\n',\n",
    "          \n",
    "          fontsize = 16, \n",
    "          \n",
    "          color = 'Black')\n",
    "\n",
    "plt.xlabel('Rating',fontsize = 14)\n",
    "\n",
    "plt.ylabel('Sales',fontsize = 14)\n",
    "\n",
    "plt.show()"
   ]
  },
  {
   "cell_type": "markdown",
   "id": "f871ec1d",
   "metadata": {},
   "source": [
    "In Japan, games classified as unknown are sold more, followed by a category for all audiences, in third place for teenagers, in fourth place for adults and in fifth place for children from 10 years old, as in other regions."
   ]
  },
  {
   "cell_type": "markdown",
   "id": "979a702c",
   "metadata": {},
   "source": [
    "Summing up, we can say that the rating affects game sales by region, and the category for all audiences is the one that sells the most in all the regions studied. In second place in popularity is an unknown category, with the exception of Japan, where it is sold the most. The category from 10 years is the one that occupies the last position in all regions."
   ]
  },
  {
   "cell_type": "markdown",
   "id": "e1b5768c",
   "metadata": {},
   "source": [
    "# Hypothesis Testing"
   ]
  },
  {
   "cell_type": "markdown",
   "id": "e1420047",
   "metadata": {},
   "source": [
    "H0 — the average user ratings of the Xbox One platform are equal to the average user ratings of the PC platform.\n",
    "\n",
    "H1 — The average user ratings of the Xbox One platform differ from the average user ratings of the PC platform.\n",
    "\n",
    "Let's create new data frames in which we will save the ratings of the Xbox One and PC platforms."
   ]
  },
  {
   "cell_type": "code",
   "execution_count": 128,
   "id": "2a9e6755",
   "metadata": {},
   "outputs": [],
   "source": [
    "x_one = data.query('platform == \"XOne\"')['user_score'].dropna()"
   ]
  },
  {
   "cell_type": "code",
   "execution_count": 129,
   "id": "dd916951",
   "metadata": {},
   "outputs": [],
   "source": [
    "pc = data.query('platform == \"PC\"')['user_score'].dropna()"
   ]
  },
  {
   "cell_type": "markdown",
   "id": "20d749d9",
   "metadata": {},
   "source": [
    "First we will look at the variation of the data, as well as the median, mean, first and third quartiles."
   ]
  },
  {
   "cell_type": "code",
   "execution_count": 130,
   "id": "24ea9753",
   "metadata": {},
   "outputs": [
    {
     "data": {
      "text/plain": [
       "count    182.000000\n",
       "mean       6.521429\n",
       "std        1.380941\n",
       "min        1.600000\n",
       "25%        5.800000\n",
       "50%        6.800000\n",
       "75%        7.500000\n",
       "max        9.200000\n",
       "Name: user_score, dtype: float64"
      ]
     },
     "execution_count": 130,
     "metadata": {},
     "output_type": "execute_result"
    }
   ],
   "source": [
    "x_one.describe()"
   ]
  },
  {
   "cell_type": "code",
   "execution_count": 131,
   "id": "1d4eca2c",
   "metadata": {},
   "outputs": [
    {
     "data": {
      "text/plain": [
       "count    752.000000\n",
       "mean       7.062367\n",
       "std        1.533655\n",
       "min        1.400000\n",
       "25%        6.200000\n",
       "50%        7.500000\n",
       "75%        8.200000\n",
       "max        9.300000\n",
       "Name: user_score, dtype: float64"
      ]
     },
     "execution_count": 131,
     "metadata": {},
     "output_type": "execute_result"
    }
   ],
   "source": [
    "pc.describe()"
   ]
  },
  {
   "cell_type": "markdown",
   "id": "e5a7f78e",
   "metadata": {},
   "source": [
    "Let's move on to calculating the variance of two variables."
   ]
  },
  {
   "cell_type": "code",
   "execution_count": 132,
   "id": "c1fcba32",
   "metadata": {},
   "outputs": [
    {
     "name": "stdout",
     "output_type": "stream",
     "text": [
      "Dispersion of the Xbox One: 1.9069968429360702\n"
     ]
    }
   ],
   "source": [
    "print('Dispersion of the Xbox One:', x_one.var(ddof=1))"
   ]
  },
  {
   "cell_type": "code",
   "execution_count": 133,
   "id": "dee359cc",
   "metadata": {},
   "outputs": [
    {
     "name": "stdout",
     "output_type": "stream",
     "text": [
      "PC Variance: 2.3520971860214734\n"
     ]
    }
   ],
   "source": [
    "print('PC Variance:', pc.var(ddof=1))"
   ]
  },
  {
   "cell_type": "markdown",
   "id": "2dc723d1",
   "metadata": {},
   "source": [
    "The variability of data on the PC is higher than on the Xbox One."
   ]
  },
  {
   "cell_type": "code",
   "execution_count": 134,
   "id": "5bff7ddf",
   "metadata": {},
   "outputs": [
    {
     "name": "stdout",
     "output_type": "stream",
     "text": [
      "p-значение: 5.2790724212074636e-06\n",
      "We reject the null hypothesis\n"
     ]
    }
   ],
   "source": [
    "alpha = .05\n",
    "\n",
    "results = st.ttest_ind(\n",
    "    \n",
    "    pc, \n",
    "    \n",
    "    x_one, \n",
    "    \n",
    "    equal_var=False)\n",
    "\n",
    "print('p-value:', results.pvalue)\n",
    "\n",
    "if (results.pvalue < alpha):\n",
    "    \n",
    "    print('We reject the null hypothesis')\n",
    "    \n",
    "else:\n",
    "    \n",
    "    print('Failed to reject the null hypothesis')"
   ]
  },
  {
   "cell_type": "markdown",
   "id": "d991806d",
   "metadata": {},
   "source": [
    "Average user ratings on Xbox One and PC differ."
   ]
  },
  {
   "cell_type": "markdown",
   "id": "1de866cf",
   "metadata": {},
   "source": [
    "We do the same with the action and sports genres."
   ]
  },
  {
   "cell_type": "code",
   "execution_count": 136,
   "id": "26f0b18c",
   "metadata": {},
   "outputs": [],
   "source": [
    "action = data.query('genre == \"Action\"')['user_score'].dropna()"
   ]
  },
  {
   "cell_type": "code",
   "execution_count": 137,
   "id": "20611280",
   "metadata": {},
   "outputs": [],
   "source": [
    "sports = data.query('genre == \"Sports\"')['user_score'].dropna()"
   ]
  },
  {
   "cell_type": "code",
   "execution_count": 138,
   "id": "efd95440",
   "metadata": {},
   "outputs": [
    {
     "data": {
      "text/plain": [
       "count    1795.000000\n",
       "mean        7.057270\n",
       "std         1.423832\n",
       "min         0.300000\n",
       "25%         6.300000\n",
       "50%         7.400000\n",
       "75%         8.100000\n",
       "max         9.500000\n",
       "Name: user_score, dtype: float64"
      ]
     },
     "execution_count": 138,
     "metadata": {},
     "output_type": "execute_result"
    }
   ],
   "source": [
    "action.describe()"
   ]
  },
  {
   "cell_type": "code",
   "execution_count": 139,
   "id": "bad03573",
   "metadata": {},
   "outputs": [
    {
     "data": {
      "text/plain": [
       "count    1081.000000\n",
       "mean        6.951434\n",
       "std         1.619585\n",
       "min         0.200000\n",
       "25%         6.100000\n",
       "50%         7.400000\n",
       "75%         8.100000\n",
       "max         9.500000\n",
       "Name: user_score, dtype: float64"
      ]
     },
     "execution_count": 139,
     "metadata": {},
     "output_type": "execute_result"
    }
   ],
   "source": [
    "sports.describe()"
   ]
  },
  {
   "cell_type": "code",
   "execution_count": 140,
   "id": "48ab3c26",
   "metadata": {},
   "outputs": [
    {
     "name": "stdout",
     "output_type": "stream",
     "text": [
      "Variance of the action movie genre: 2.027298006664127\n"
     ]
    }
   ],
   "source": [
    "print('Variance of the action movie genre:', action.var(ddof=1))"
   ]
  },
  {
   "cell_type": "code",
   "execution_count": 141,
   "id": "8e86ebfd",
   "metadata": {},
   "outputs": [
    {
     "name": "stdout",
     "output_type": "stream",
     "text": [
      "Variance of the sports genre: 2.6230558125192656\n"
     ]
    }
   ],
   "source": [
    "print('Variance of the sports genre:', sports.var(ddof=1))"
   ]
  },
  {
   "cell_type": "markdown",
   "id": "c8b845a3",
   "metadata": {},
   "source": [
    "The variance of the sports genre is slightly higher than that of the action."
   ]
  },
  {
   "cell_type": "code",
   "execution_count": 142,
   "id": "d7f600ac",
   "metadata": {},
   "outputs": [
    {
     "name": "stdout",
     "output_type": "stream",
     "text": [
      "p-value: 0.07607291840585198\n",
      "Failed to reject the null hypothesis\n"
     ]
    }
   ],
   "source": [
    "alpha = .05\n",
    "\n",
    "results = st.ttest_ind(\n",
    "    \n",
    "    action, \n",
    "    \n",
    "    sports, \n",
    "    \n",
    "    equal_var=False)\n",
    "\n",
    "print('p-value:', results.pvalue)\n",
    "\n",
    "if (results.pvalue < alpha):\n",
    "    \n",
    "    print(\"We reject the null hypothesis\")\n",
    "    \n",
    "else:\n",
    "    \n",
    "    print(\"Failed to reject the null hypothesis\")"
   ]
  },
  {
   "cell_type": "markdown",
   "id": "3f98a0dd",
   "metadata": {},
   "source": [
    "There is no difference between the means of an action movie and a sports genre."
   ]
  },
  {
   "cell_type": "markdown",
   "id": "c2bb5034",
   "metadata": {},
   "source": [
    "# General conclusions of the report"
   ]
  },
  {
   "cell_type": "markdown",
   "id": "99591587",
   "metadata": {},
   "source": [
    "· At the beginning of the study, we saw that there were several variables that had a data type that did not correspond to them, so we decided to change their correct type. This was the case for the variables user_score and critical_score. We also saw that the rating variable has the classification 'tbd', and we found out what the rating means, subject to clarification, so we decided to change it to unknown so that it does not affect the analysis.\n",
    "\n",
    "· During the investigation, we saw that video game sales followed a growth trend from the 90s until about 2015.\n",
    "\n",
    "· Not all platforms have almost the same lifecycle, some manage to stay on the market longer, like the PS series, while others disappear earlier, like the DS.\n",
    "\n",
    "· The average life of the platform is 10 years.  \n",
    "\n",
    "· The greatest spread of median values in the X360, PS3, WiiU, Xone and PS4.\n",
    "\n",
    "· Almost all platforms have outliers.\n",
    "\n",
    "· The smallest spread of median values in XB, GBA, PC, PSV and DC.\n",
    "\n",
    "· X360 and PS3 have the most expensive games.\n",
    "\n",
    "· The cheapest PC and PSV games.\n",
    "\n",
    "· In the annual release of games, all the leading platforms follow the same trend, experiencing a boom that gradually decreases throughout the 2010s, the same can be said about sales.\n",
    "\n",
    "· The distribution of sales data between the platforms with the highest sales volume is very similar, the medians almost overlap, as can be seen on the graphs of boxes with whiskers. The farthest platform is DS, which, we can say, also belongs to another time, that is, it appears in history earlier and disappears earlier as well.\n",
    "\n",
    "· Sales depend on critics ratings. User ratings does not affect sales in any way, while it has a high correlation with the critics rating.\n",
    "\n",
    "· In the case when the platform has gone through a full cycle, sales are weakly dependent on the critics assessment, but there is already a relationship with the users assessment, it is also weak, but there is compared to the PS4. The relationship between critics and users is much higher.\n",
    "\n",
    "· The category \"Other platforms\" is most common in all regions, but we found differences between the other platforms. The PS series is more successful in Europe, while in North America, in addition to the PS2, the X360 and Wii also find their place. Japan is the region that is most different: DS is in second place, and SNES and 3DS are absent in the rest of the regions.\n",
    "\n",
    "· Taking into account all platforms and regions, the genres that report the highest sales are classified as platformers, sports and shooters. Except Japan, where role-playing games are stronger.\n",
    "\n",
    "· The user profile by region shows similarities between North American and European consumers with slight differences in the preferences of a particular platform, but Japanese consumers differ the most. In this case, preference is given to the DS platform, while in North America and Europe, the PS series is the leading platform.\n",
    "\n",
    "· In terms of total sales, the largest part of the pie is in the United States, whose sales account for more than half of total sales in the world, followed by Europe, which accounts for a third of total sales. Japan would be in last place with just over a quarter of total sales.  \n",
    "\n",
    "· According to genre tastes, North America and Europe are more similar, in these two regions the action genre is sold the most, they differ in that in North America the sports genre is in second place, and in Europe the shooter genre.\n",
    "\n",
    "· As in previous cases, the note is given by the Japanese audience, which differs from other regions. Here the genre of role-playing games has primacy over the rest.\n",
    "\n",
    "· In the section devoted to the impact of the ESBD rating on sales, we saw that the category for all audiences is the one that sells the most in all the regions studied. In second place in popularity is an unknown category, with the exception of Japan, where it is sold the most. The category from 10 years is the one that occupies the last position in all regions.\n",
    "\n",
    "· In the study, we compared the hypothesis of whether the average user's rating differs on the Xbox One and PC platforms, and the answer was negative, they are the same.\n",
    "\n",
    "· We also tested the hypothesis of whether the rating of the average user of the action and sports genres differs, and received the answer that yes, they are different."
   ]
  },
  {
   "cell_type": "markdown",
   "id": "5eea71ac",
   "metadata": {},
   "source": [
    "# Recommendations"
   ]
  },
  {
   "cell_type": "markdown",
   "id": "adb1ed02",
   "metadata": {},
   "source": [
    "· The most promising platforms are: PS4, XOne. Their first release was in 2013, so they have a good chance to prove themselves on the market until 2023.\n",
    "\n",
    "· The PC platform is stable, but for many years, it has not become a leader, so it is more of a stable option.\n",
    "\n",
    "· Sales and critical rating have a moderate relationship. User reviews and sales have a weak relationship. Here we can recommend companies engaged in the sale of games, and it is that it is better to direct money on evaluation campaigns to specialized critics, who in our time would consist of bloggers. Always with caution, as the relationship is moderate, but by no means strong. \n",
    "\n",
    "· The Japanese audience is very different from the European and North American ones, so if you want to succeed in this market, you have to take into account these differences in tastes regarding platforms and game genres.\n",
    "\n",
    "· Where more games are sold worldwide is in North America, so it would be advisable to pay special attention to this fact and redirect campaign resources to this territory, where there are more opportunities for sales.\n",
    "\n",
    "· Sports games are more successful in North America than in other regions, and this should be kept in mind when creating new games. \n",
    "\n",
    "· The official classification of games affects the number of sales, while games without classification and games suitable for all audiences are sold the most. In this sense, the defined category provides a freer sale without age restrictions established by the rules.\n",
    "\n",
    "· Differentiating the audience that prefers action and sports games when developing a campaign strategy is important for increasing sales in these areas, because, as we saw when testing hypotheses, the averages between these two types of games differ."
   ]
  }
 ],
 "metadata": {
  "kernelspec": {
   "display_name": "Python 3 (ipykernel)",
   "language": "python",
   "name": "python3"
  },
  "language_info": {
   "codemirror_mode": {
    "name": "ipython",
    "version": 3
   },
   "file_extension": ".py",
   "mimetype": "text/x-python",
   "name": "python",
   "nbconvert_exporter": "python",
   "pygments_lexer": "ipython3",
   "version": "3.9.7"
  }
 },
 "nbformat": 4,
 "nbformat_minor": 5
}
